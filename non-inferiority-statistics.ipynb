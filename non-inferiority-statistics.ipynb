{
 "cells": [
  {
   "cell_type": "code",
   "execution_count": 164,
   "metadata": {},
   "outputs": [],
   "source": [
    "import pandas as pd\n",
    "import numpy as np\n",
    "from scipy.stats import norm\n",
    "import seaborn as sns\n",
    "%matplotlib inline"
   ]
  },
  {
   "cell_type": "markdown",
   "metadata": {},
   "source": [
    "Approach taken from NCSS' guide [Two Proportions – Non-Inferiority, Superiority, Equivalence, and Two-Sided Tests vs. a Margin](https://ncss-wpengine.netdna-ssl.com/wp-content/themes/ncss/pdf/Procedures/NCSS/Two_Proportions-Non-Inferiority,_Superiority,_Equivalence,_and_Two-Sided_Tests_vs_a_Margin.pdf), as with previous statistical approaches (i.e. as their guides include detailed formulae)."
   ]
  },
  {
   "cell_type": "code",
   "execution_count": 95,
   "metadata": {},
   "outputs": [
    {
     "name": "stdout",
     "output_type": "stream",
     "text": [
      "      don  non\n",
      "test   60  940\n",
      "ctrl   70  930\n"
     ]
    }
   ],
   "source": [
    "data = {'test': [60, 1000-60], 'ctrl': [70, 1000-70]}\n",
    "# N.B. convention = test is n1 and p1, ctrl is n2 and p2, hence the order\n",
    "\n",
    "df = pd.DataFrame.from_dict(data, orient='index',\n",
    "                            columns=['don', 'non'])\n",
    "print(df)"
   ]
  },
  {
   "cell_type": "code",
   "execution_count": 96,
   "metadata": {},
   "outputs": [],
   "source": [
    "delta = -0.01  # The non-inferiority margin"
   ]
  },
  {
   "cell_type": "markdown",
   "metadata": {},
   "source": [
    "Take the test statistic from p19-20."
   ]
  },
  {
   "cell_type": "code",
   "execution_count": 97,
   "metadata": {},
   "outputs": [
    {
     "name": "stdout",
     "output_type": "stream",
     "text": [
      "Test: 1000, 0.06\n",
      "Ctrl: 1000, 0.07\n"
     ]
    }
   ],
   "source": [
    "df['total'] = df.sum(axis=1)\n",
    "[n1, n2] = df['total']\n",
    "N = n1 + n2\n",
    "[p1, p2] = df['don'] / df['total']\n",
    "print('Test: {}, {}\\nCtrl: {}, {}'.format(n1, p1, n2, p2))"
   ]
  },
  {
   "cell_type": "code",
   "execution_count": 98,
   "metadata": {},
   "outputs": [
    {
     "name": "stdout",
     "output_type": "stream",
     "text": [
      "-0.7070000000000001\n",
      "151.5\n",
      "-2160.0\n",
      "2000\n"
     ]
    }
   ],
   "source": [
    "l0 = df.loc['ctrl', 'don'] * delta * (1 - delta)\n",
    "l1 = (n2*delta - N - 2*df.loc['ctrl', 'don']) * delta + df['don'].sum()\n",
    "l2 = (N + n2)*delta - N - df['don'].sum()\n",
    "l3 = N\n",
    "for i in [l0, l1, l2, l3]:\n",
    "    print(i)"
   ]
  },
  {
   "cell_type": "code",
   "execution_count": 99,
   "metadata": {},
   "outputs": [
    {
     "name": "stdout",
     "output_type": "stream",
     "text": [
      "-0.033197750000000005 -0.3230325061042619 1.10529455981647\n"
     ]
    }
   ],
   "source": [
    "C = (l2**3 / (27 * (l3**3))) - (l1*l2)/(6 * (l3**2)) + l0/(2*l3)\n",
    "B = np.sign(C) * np.sqrt((l2**2)/(9 * (l3**2)) - l1/(3*l3))\n",
    "A = (1/3) * (np.pi + np.arccos(C/(B**3)))\n",
    "print(C, B, A)"
   ]
  },
  {
   "cell_type": "code",
   "execution_count": 100,
   "metadata": {},
   "outputs": [
    {
     "name": "stdout",
     "output_type": "stream",
     "text": [
      "0.059999999999999505 0.06999999999999951 -0.010000000000000002\n"
     ]
    }
   ],
   "source": [
    "p2_cd = 2*B*np.cos(A) - l2/(3*l3)  # constrained p\n",
    "p1_cd = p2_cd + delta\n",
    "print(p1_cd, p2_cd, p1_cd - p2_cd)"
   ]
  },
  {
   "cell_type": "code",
   "execution_count": 101,
   "metadata": {},
   "outputs": [
    {
     "name": "stdout",
     "output_type": "stream",
     "text": [
      "-7.86689802094413e-16\n"
     ]
    }
   ],
   "source": [
    "z_MND_num = p1 - p2 - delta\n",
    "z_MND_den = (p1_cd*(1-p1_cd)/n1 + p2_cd*(1-p2_cd)/n2) * N / (N-1)\n",
    "z_MND_den = np.sqrt(z_MND_den)\n",
    "z_MND = z_MND_num / z_MND_den\n",
    "print(z_MND)"
   ]
  },
  {
   "cell_type": "markdown",
   "metadata": {},
   "source": [
    "p38 => this is treated as a standard z-score, and therefore is turned into a p-value by:"
   ]
  },
  {
   "cell_type": "code",
   "execution_count": 102,
   "metadata": {},
   "outputs": [
    {
     "data": {
      "text/plain": [
       "0.49999999999999967"
      ]
     },
     "execution_count": 102,
     "metadata": {},
     "output_type": "execute_result"
    }
   ],
   "source": [
    "norm.cdf(z_MND)"
   ]
  },
  {
   "cell_type": "markdown",
   "metadata": {},
   "source": [
    "It being p=0.5 for a situ where the observed difference seen is the actual NIM makes sense! Looks good => to functionify it:"
   ]
  },
  {
   "cell_type": "code",
   "execution_count": 107,
   "metadata": {},
   "outputs": [
    {
     "name": "stdout",
     "output_type": "stream",
     "text": [
      "(7.86689802094413e-16, 0.8413447460685428)\n"
     ]
    }
   ],
   "source": [
    "def mndifference(datafr, nim):\n",
    "    \"\"\"Perform the Miettinen-Nurminen Large-Sample Score Test of the Difference.\n",
    "    \n",
    "    Parameters\n",
    "    ----------\n",
    "    datafr : pd.DataFrame\n",
    "        The data to run the test on.\n",
    "        Columns: don, non, total\n",
    "        Index: test, ctrl\n",
    "        N.B. the convention here is that the experiment is indexed as 1, and the control as 2, in reverse of normal.\n",
    "    nim : float, <0 when lower is worse.\n",
    "        The Non-Inferiority Margin: the amount that P1 can be less than P2 and you still conclude that\n",
    "        group 1 (treatment) is not inferior to group 2 (control).\n",
    "\n",
    "    Returns\n",
    "    -------\n",
    "    ? : ?\n",
    "        Blah\n",
    "    \"\"\"\n",
    "    [n1, n2] = datafr['total']\n",
    "    N = n1 + n2\n",
    "    [p1, p2] = datafr['don'] / datafr['total']\n",
    "    \n",
    "    l0 = datafr.loc['ctrl', 'don'] * nim * (1 - nim)\n",
    "    l1 = (n2*nim - N - 2*datafr.loc['ctrl', 'don']) * nim + datafr['don'].sum()\n",
    "    l2 = (N + n2)*nim - N - datafr['don'].sum()\n",
    "    l3 = N\n",
    "    \n",
    "    C = (l2**3 / (27 * (l3**3))) - (l1*l2)/(6 * (l3**2)) + l0/(2*l3)\n",
    "    B = np.sign(C) * np.sqrt((l2**2)/(9 * (l3**2)) - l1/(3*l3))\n",
    "    A = (1/3) * (np.pi + np.arccos(C/(B**3)))\n",
    "    \n",
    "    p2_cd = 2*B*np.cos(A) - l2/(3*l3)  # constrained p\n",
    "    p1_cd = p2_cd + nim\n",
    "    \n",
    "    z_MND_num = p2 - p1 + nim\n",
    "    z_MND_den = (p1_cd*(1-p1_cd)/n1 + p2_cd*(1-p2_cd)/n2) * N / (N-1)\n",
    "    z_MND_den = np.sqrt(z_MND_den)\n",
    "    z_MND = z_MND_num / z_MND_den\n",
    "\n",
    "    return z_MND, norm.cdf(1-z_MND)\n",
    "\n",
    "\n",
    "print(mndifference(df, delta))"
   ]
  },
  {
   "cell_type": "code",
   "execution_count": 108,
   "metadata": {},
   "outputs": [
    {
     "name": "stdout",
     "output_type": "stream",
     "text": [
      "       don   non  total\n",
      "test   900  9100  10000\n",
      "ctrl  1200  8800  10000 \n",
      "ctr1 = 0.09\n",
      "ctr2 = 0.12\n",
      "z: -2.303390756582445\n",
      "p: 0.999522384102156\n",
      "NIM: -0.04\n",
      "       don   non  total\n",
      "test  1000  9000  10000\n",
      "ctrl  1200  8800  10000 \n",
      "ctr1 = 0.1\n",
      "ctr2 = 0.12\n",
      "z: -4.500807405945609\n",
      "p: 0.9999999810972005\n",
      "NIM: -0.04\n",
      "       don   non  total\n",
      "test  1100  8900  10000\n",
      "ctrl  1200  8800  10000 \n",
      "ctr1 = 0.11\n",
      "ctr2 = 0.12\n",
      "z: -6.606882485347294\n",
      "p: 0.999999999999986\n",
      "NIM: -0.04\n",
      "       don   non  total\n",
      "test  1200  8800  10000\n",
      "ctrl  1200  8800  10000 \n",
      "ctr1 = 0.12\n",
      "ctr2 = 0.12\n",
      "z: -8.633283165227821\n",
      "p: 1.0\n",
      "NIM: -0.04\n",
      "       don   non  total\n",
      "test  1300  8700  10000\n",
      "ctrl  1200  8800  10000 \n",
      "ctr1 = 0.13\n",
      "ctr2 = 0.12\n",
      "z: -10.589502001723977\n",
      "p: 1.0\n",
      "NIM: -0.04\n",
      "       don   non  total\n",
      "test  1400  8600  10000\n",
      "ctrl  1200  8800  10000 \n",
      "ctr1 = 0.14\n",
      "ctr2 = 0.12\n",
      "z: -12.483393493598182\n",
      "p: 1.0\n",
      "NIM: -0.04\n",
      "       don   non  total\n",
      "test  1500  8500  10000\n",
      "ctrl  1200  8800  10000 \n",
      "ctr1 = 0.15\n",
      "ctr2 = 0.12\n",
      "z: -14.321550228593223\n",
      "p: 1.0\n",
      "NIM: -0.04\n"
     ]
    }
   ],
   "source": [
    "diff_range = 300\n",
    "differences = range(-diff_range, diff_range+1, 100)\n",
    "# step_nim = -0.04\n",
    "\n",
    "for diff in differences:\n",
    "    ctrl_convs = 1200\n",
    "    cell_size = 10000\n",
    "    test_convs = ctrl_convs + diff\n",
    "    step_nim = - (ctrl_convs / cell_size) / 3\n",
    "    step_data = {'test': [test_convs, cell_size-test_convs, cell_size],\n",
    "                 'ctrl': [ctrl_convs, cell_size-ctrl_convs, cell_size]}\n",
    "    step_df = pd.DataFrame.from_dict(step_data, orient='index', columns=['don', 'non', 'total'])\n",
    "    step_z, step_p = mndifference(step_df, step_nim)\n",
    "    step_p1 = step_df.loc['test', 'don'] / step_df.loc['test', 'total']\n",
    "    step_p2 = step_df.loc['ctrl', 'don'] / step_df.loc['ctrl', 'total']\n",
    "    print(step_df, '\\nctr1 = {}\\nctr2 = {}\\nz: {}\\np: {}\\nNIM: {}'.format(step_p1, step_p2, step_z, step_p, step_nim))"
   ]
  },
  {
   "cell_type": "markdown",
   "metadata": {},
   "source": [
    "p38 => p<0.05 means that the experimental treatment is non-inferior to the standard treatment. So the p-value getting smaller as the test cvr increases is correct, as smaller p => more sure the test is non-inferior\n",
    "\n",
    "But it looks like bigger sample sizes leads to an equivalent difference (e.g. of -0.02) getting a smaller p-value -- shouldn't it be the reverse? We should be more certain that a test is inferior if the sample size increases i.e. a sample size increase should lead "
   ]
  },
  {
   "cell_type": "markdown",
   "metadata": {},
   "source": [
    "# Sample size calculation\n",
    "\n",
    "From [Power calculator for binary outcome non-inferiority trial](https://www.sealedenvelope.com/power/binary-noninferior/) (Sealed Envelope Ltd, 2012, accessed Fri Jul 17 2020):\n",
    "\n",
    "> n = f(α, β) × [πs × (100 − πs) + πe × (100 − πe)] / (πs − πe − d)2\n",
    "where πs and πe are the true percent 'success' in the standard and experimental treatment group respectively, and\n",
    "> \n",
    "> f(α, β) = [Φ-1(α) + Φ-1(β)]2\n",
    "Φ-1 is the cumulative distribution function of a standardised normal deviate.\n",
    "\n",
    "Which you turn into the power by (cf. [Calculate Sample Size Needed to Compare 2 Proportions: 2-Sample Non-Inferiority or Superiority](http://powerandsamplesize.com/Calculators/Compare-2-Proportions/2-Sample-Non-Inferiority-or-Superiority):\n",
    "\n",
    "\\begin{equation*}\n",
    "n_A=\\kappa n_B \\;\\text{ and }\\;\n",
    "\t\tn_B=\\left(\\frac{p_A(1-p_A)}{\\kappa}+p_B(1-p_B)\\right)\n",
    "\t\t\t\\left(\\frac{z_{1-\\alpha}+z_{1-\\beta}}{p_A-p_B-\\delta}\\right)^2\n",
    "\\end{equation*}\n",
    "\\begin{equation*}\n",
    "1-\\beta=\n",
    "\t\t\t\\Phi\\left(z-z_{1-\\alpha/2}\\right)+\\Phi\\left(-z-z_{1-\\alpha/2}\\right)\n",
    "\t\t\t\\quad ,\\quad z=\\frac{p_A-p_B-\\delta}{\\sqrt{\\frac{p_A(1-p_A)}{n_A}+\\frac{p_B(1-p_B)}{n_B}}}\n",
    "\\end{equation*}\n",
    "\n",
    "N.B. http://albertotb.com/Equivalence-between-distribution-functions-in-R-and-Python/ => that pnorm is cdf and qnorm is inverse cdf i.e. ppf.\n",
    "\n",
    "**N.B. d is chosen above as negative to be clear we're talking about avoiding a lower effect. You want (ctrl - test - d) in the calculation for d>0 => it's ctrl-test+d for d<0. Reversing the sign of d, or reversing ctrl/test, results in {test >> ctrl} => {n gets larger} - clearly the wrong way round.**"
   ]
  },
  {
   "cell_type": "code",
   "execution_count": 152,
   "metadata": {},
   "outputs": [],
   "source": [
    "def noninferior_sample_size(p_ctrl, p_test, margin, alpha=0.05, beta=0.2):\n",
    "    \"\"\"\n",
    "    Perform a sample size calculation for a non-inferiority / superiority test, based around a given margin.\n",
    "    \"\"\"\n",
    "    f = (norm.ppf(1-alpha) + norm.ppf(1-beta)) ** 2\n",
    "    n = f * (p_ctrl*(1-p_ctrl) + p_test*(1-p_test)) / ((p_ctrl - p_test + margin) ** 2)\n",
    "    # Ctrl > test = bad => ctrl - test + margin (where margin < 0)\n",
    "    z = (p_ctrl - p_test + margin) / np.sqrt(p_ctrl*(1-p_ctrl)/n + p_test*(1-p_test)/n)\n",
    "    # power = norm.cdf(z-norm.ppf(1-alpha)) + norm.cdf(-z-norm.ppf(1-alpha)) - Not necessary - as we're specifying a given power\n",
    "    return (int(np.ceil(n)), z)"
   ]
  },
  {
   "cell_type": "code",
   "execution_count": 153,
   "metadata": {},
   "outputs": [
    {
     "name": "stdout",
     "output_type": "stream",
     "text": [
      "      0.07  0.08  0.09  0.10  0.11  0.12  0.13\n",
      "0.05  2398  1124   665   446   323   247   197\n",
      "0.10   196   159   132   112    97    84    75\n",
      "0.15    67    60    55    50    46    42    39\n",
      "0.20    34    32    30    28    27    25    24\n",
      "0.25    20    20    19    18    18    17    17\n",
      "0.30    14    13    13    13    13    12    12\n",
      "0.35    10    10    10    10     9     9     9\n",
      "0.40     8     8     7     7     7     7     7\n"
     ]
    }
   ],
   "source": [
    "p_standard = 0.10\n",
    "# p_exp = 0.10\n",
    "d = -0.20\n",
    "alpha = 0.05\n",
    "beta = 0.20\n",
    "\n",
    "p_gap = 3\n",
    "p_range = [i/100 for i in range(int(p_standard*100)-p_gap, int(p_standard*100)+p_gap+1)]\n",
    "margin_range = [i/100 for i in range(5, 40+1, 5)]\n",
    "sample_sizes = pd.DataFrame(index=margin_range, columns=p_range)\n",
    "for expected_p in p_range:\n",
    "    for expected_margin in margin_range:\n",
    "        n, z = noninferior_sample_size(p_standard, expected_p, -expected_margin)\n",
    "        sample_sizes.loc[expected_margin, expected_p] = n\n",
    "print(sample_sizes)"
   ]
  },
  {
   "cell_type": "code",
   "execution_count": 154,
   "metadata": {},
   "outputs": [
    {
     "name": "stdout",
     "output_type": "stream",
     "text": [
      "0.1 0.07 -0.2 34 -2.4864748605243863\n",
      "0.1 0.08 -0.2 32 -2.4864748605243863\n",
      "0.1 0.09 -0.2 30 -2.4864748605243863\n",
      "0.1 0.1 -0.2 28 -2.4864748605243863\n",
      "0.1 0.11 -0.2 27 -2.4864748605243863\n",
      "0.1 0.12 -0.2 25 -2.4864748605243863\n",
      "0.1 0.13 -0.2 24 -2.4864748605243863\n"
     ]
    }
   ],
   "source": [
    "for percent_exp in range(7, 13+1):\n",
    "    p_exp = percent_exp / 100\n",
    "    n_iter, z_iter = noninferior_sample_size(p_standard, p_exp, d)\n",
    "    print(p_standard, p_exp, d, n_iter, z_iter)"
   ]
  },
  {
   "cell_type": "markdown",
   "metadata": {},
   "source": [
    "**Why is the z not changing? FFS.**\n",
    "\n",
    "f is constant => n should be proportional to (p_ctrl*(1-p_ctrl) + p_test*(1-p_test)) / ((p_ctrl - p_test + margin) ** 2)"
   ]
  },
  {
   "cell_type": "code",
   "execution_count": 137,
   "metadata": {},
   "outputs": [
    {
     "name": "stdout",
     "output_type": "stream",
     "text": [
      "0.1 0.09 \n",
      " 29.439933190698 24 \n",
      " -0.19 0.0764134007612407\n",
      "0.1 0.1 \n",
      " 27.82150754408895 24 \n",
      " -0.2 0.08043515869604284\n",
      "0.1 0.11 \n",
      " 26.34246040581664 24 \n",
      " -0.21000000000000002 0.084456916630845\n"
     ]
    }
   ],
   "source": [
    "d = -0.2\n",
    "for p_ctrl in [0.10]:\n",
    "    for p_test in [i/100 for i in range(9, 11+1)]:\n",
    "        f_why = (norm.ppf(1-alpha) + norm.ppf(1-beta)) ** 2\n",
    "        n_why = f_why * (p_ctrl*(1-p_ctrl) + p_test*(1-p_test)) / ((p_ctrl - p_test + d) ** 2)\n",
    "        z_why_num = (p_ctrl - p_test + d)\n",
    "        z_why_denom = np.sqrt(p_ctrl*(1-p_ctrl)/n_why + p_test*(1-p_test)/n_why)\n",
    "        print(p_ctrl, p_test, '\\n', n_why, n_why_calc, '\\n', z_why_num, z_why_denom)"
   ]
  },
  {
   "cell_type": "markdown",
   "metadata": {},
   "source": [
    "The z num and denom are changing by the same rate. Probably obvious if had worked through the formulae! Because in a real experiment, you're estimating alpha from the data, not fixing it at 0.05. Obv!\n",
    "\n",
    "=> try calculating the z by the previous approach (but avoiding the complication of the estimators, just as a POC)"
   ]
  },
  {
   "cell_type": "code",
   "execution_count": 156,
   "metadata": {},
   "outputs": [
    {
     "name": "stdout",
     "output_type": "stream",
     "text": [
      "10 -0.15733881028688976 0.43748891748268465\n",
      "30 -0.282431807984457 0.38880621404097293\n",
      "50 -0.3671238906694094 0.35676330373918685\n",
      "100 -0.5218337986825238 0.300893027395649\n",
      "300 -0.9068807875548944 0.1822349210079366\n",
      "500 -1.1715609297962006 0.12068669096005968\n",
      "1000 -1.657667227068455 0.04869232611815708\n",
      "3000 -2.8721217121814933 0.002038629502111436\n"
     ]
    }
   ],
   "source": [
    "p_standard = 0.10\n",
    "p_exp = 0.08\n",
    "d = -0.05\n",
    "alpha = 0.05\n",
    "beta = 0.20\n",
    "\n",
    "z_num = p_standard - p_exp + d\n",
    "\n",
    "for n in [10, 30, 50, 100, 300, 500, 1000, 3000]:\n",
    "    n1, n2 = [n//2]*2\n",
    "    z_den = (p_standard*(1-p_standard)/n1 + p_exp*(1-p_exp)/n2) * (n1+n2) / (n1+n2-1)\n",
    "    z_den = np.sqrt(z_den)\n",
    "    z = z_num / z_den\n",
    "    p = norm.cdf(z)\n",
    "    print(n, z, p)"
   ]
  },
  {
   "cell_type": "markdown",
   "metadata": {},
   "source": [
    "Looks right => use to build an MDE calculator"
   ]
  },
  {
   "cell_type": "code",
   "execution_count": 158,
   "metadata": {},
   "outputs": [
    {
     "data": {
      "text/plain": [
       "(-2.8721217121814933, 0.002038629502111436)"
      ]
     },
     "execution_count": 158,
     "metadata": {},
     "output_type": "execute_result"
    }
   ],
   "source": [
    "def noninferior_zscore(n, p_ctrl, p_test, margin):\n",
    "    \"\"\"Calculate a z-score from a given set of experimental data\"\"\"\n",
    "    n1, n2 = [n//2]*2\n",
    "    z_num = p_ctrl - p_test + margin\n",
    "    z_den = (p_ctrl*(1-p_ctrl)/n1 + p_test*(1-p_test)/n2) * (n1+n2) / (n1+n2-1)\n",
    "    z_den = np.sqrt(z_den)\n",
    "    z = z_num / z_den\n",
    "    p = norm.cdf(z)\n",
    "    return z, p\n",
    "\n",
    "\n",
    "noninferior_zscore(3000, p_standard, p_exp, d)"
   ]
  },
  {
   "cell_type": "code",
   "execution_count": 176,
   "metadata": {},
   "outputs": [
    {
     "name": "stdout",
     "output_type": "stream",
     "text": [
      "             0.07         0.08         0.09         0.10         0.11  \\\n",
      "0.02     0.714811          0.5     0.294926     0.146041    0.0609594   \n",
      "0.04     0.285189     0.134556    0.0529226    0.0175531   0.00496943   \n",
      "0.06    0.0443323    0.0135448   0.00351674  0.000786963  0.000153613   \n",
      "0.08    0.0022736  0.000457668  8.05329e-05  1.25298e-05  1.73945e-06   \n",
      "0.10  3.55666e-05  4.92487e-06  6.12784e-07  6.90241e-08  7.07811e-09   \n",
      "0.12  1.63265e-07  1.64221e-08  1.51873e-09  1.29609e-10  1.02324e-11   \n",
      "0.14  2.15395e-10  1.67085e-11  1.21166e-12  8.21987e-14  5.21719e-15   \n",
      "0.16   8.0686e-14  5.13854e-15  3.08878e-16  1.75028e-17  9.33656e-19   \n",
      "0.18  8.51692e-18  4.74788e-19  2.50353e-20  1.24622e-21  5.84464e-23   \n",
      "0.20  2.52063e-22  1.31258e-23  6.42969e-25  2.95853e-26  1.27669e-27   \n",
      "\n",
      "             0.12         0.13  \n",
      "0.02    0.0216213   0.00657637  \n",
      "0.04   0.00121455  0.000258829  \n",
      "0.06  2.64177e-05   4.0355e-06  \n",
      "0.08  2.17011e-07  2.44679e-08  \n",
      "0.10  6.63576e-10  5.70515e-11  \n",
      "0.12  7.48569e-13  5.07944e-14  \n",
      "0.14  3.09718e-16  1.71857e-17  \n",
      "0.16  4.68115e-20  2.20226e-21  \n",
      "0.18  2.57723e-24  1.06627e-25  \n",
      "0.20  5.15774e-29  1.94707e-30  \n"
     ]
    }
   ],
   "source": [
    "pct_standard = 0.10\n",
    "alpha = 0.05\n",
    "beta = 0.20\n",
    "\n",
    "pct_gap = 0.03\n",
    "pct_range = [i/100 for i in range(int((pct_standard-pct_gap)*100), int((pct_standard+pct_gap)*100+1))]\n",
    "margin_range = [i/100 for i in range(2, 20+1, 2)]\n",
    "p_values = pd.DataFrame(index=margin_range, columns=pct_range)\n",
    "\n",
    "for expected_pct in pct_range:\n",
    "    for expected_margin in margin_range:\n",
    "        n = 1000\n",
    "        z, p = noninferior_zscore(n, pct_standard, expected_pct, -expected_margin)\n",
    "        p_values.loc[expected_margin, expected_pct] = p\n",
    "print(p_values)"
   ]
  },
  {
   "cell_type": "code",
   "execution_count": 177,
   "metadata": {},
   "outputs": [
    {
     "data": {
      "text/plain": [
       "<matplotlib.axes._subplots.AxesSubplot at 0x1de38a5a278>"
      ]
     },
     "execution_count": 177,
     "metadata": {},
     "output_type": "execute_result"
    },
    {
     "data": {
      "image/png": "[encoded data removed]",
      "text/plain": [
       "<Figure size 432x288 with 2 Axes>"
      ]
     },
     "metadata": {
      "needs_background": "light"
     },
     "output_type": "display_data"
    }
   ],
   "source": [
    "sns.heatmap(p_values.astype(float), annot=True)"
   ]
  },
  {
   "cell_type": "code",
   "execution_count": 175,
   "metadata": {},
   "outputs": [
    {
     "data": {
      "text/plain": [
       "<matplotlib.axes._subplots.AxesSubplot at 0x1de388de358>"
      ]
     },
     "execution_count": 175,
     "metadata": {},
     "output_type": "execute_result"
    },
    {
     "data": {
      "image/png": "[encoded data removed]",
      "text/plain": [
       "<Figure size 432x288 with 2 Axes>"
      ]
     },
     "metadata": {
      "needs_background": "light"
     },
     "output_type": "display_data"
    }
   ],
   "source": [
    "sns.heatmap(np.log(p_values.astype(float)), annot=True)"
   ]
  },
  {
   "cell_type": "markdown",
   "metadata": {},
   "source": [
    "Join two colourmaps around p=0.05 to see more clearly? https://stackoverflow.com/questions/51816297/using-non-linear-scale-with-seaborn-heatmap"
   ]
  },
  {
   "cell_type": "code",
   "execution_count": null,
   "metadata": {},
   "outputs": [],
   "source": []
  }
 ],
 "metadata": {
  "kernelspec": {
   "display_name": "Python 3",
   "language": "python",
   "name": "python3"
  },
  "language_info": {
   "codemirror_mode": {
    "name": "ipython",
    "version": 3
   },
   "file_extension": ".py",
   "mimetype": "text/x-python",
   "name": "python",
   "nbconvert_exporter": "python",
   "pygments_lexer": "ipython3",
   "version": "3.7.1"
  }
 },
 "nbformat": 4,
 "nbformat_minor": 2
}
