{
 "cells": [
  {
   "cell_type": "code",
   "execution_count": 29,
   "metadata": {},
   "outputs": [],
   "source": [
    "import pandas as pd\n",
    "import numpy as np\n",
    "from scipy.stats import norm"
   ]
  },
  {
   "cell_type": "markdown",
   "metadata": {},
   "source": [
    "Approach taken from NCSS' guide [Two Proportions – Non-Inferiority, Superiority, Equivalence, and Two-Sided Tests vs. a Margin](https://ncss-wpengine.netdna-ssl.com/wp-content/themes/ncss/pdf/Procedures/NCSS/Two_Proportions-Non-Inferiority,_Superiority,_Equivalence,_and_Two-Sided_Tests_vs_a_Margin.pdf), as with previous statistical approaches (i.e. as their guides include detailed formulae)."
   ]
  },
  {
   "cell_type": "code",
   "execution_count": 45,
   "metadata": {},
   "outputs": [
    {
     "name": "stdout",
     "output_type": "stream",
     "text": [
      "      don  non\n",
      "test   60  940\n",
      "ctrl   70  930\n"
     ]
    }
   ],
   "source": [
    "data = {'test': [60, 1000-60], 'ctrl': [70, 1000-70]}\n",
    "# N.B. convention = test is n1 and p1, ctrl is n2 and p2, hence the order\n",
    "\n",
    "df = pd.DataFrame.from_dict(data, orient='index',\n",
    "                            columns=['don', 'non'])\n",
    "print(df)"
   ]
  },
  {
   "cell_type": "code",
   "execution_count": 46,
   "metadata": {},
   "outputs": [],
   "source": [
    "delta = -0.01  # The non-inferiority margin"
   ]
  },
  {
   "cell_type": "markdown",
   "metadata": {},
   "source": [
    "Take the test statistic from p19-20."
   ]
  },
  {
   "cell_type": "code",
   "execution_count": 47,
   "metadata": {},
   "outputs": [
    {
     "name": "stdout",
     "output_type": "stream",
     "text": [
      "Test: 1000, 0.06\n",
      "Ctrl: 1000, 0.07\n"
     ]
    }
   ],
   "source": [
    "df['total'] = df.sum(axis=1)\n",
    "[n1, n2] = df['total']\n",
    "N = n1 + n2\n",
    "[p1, p2] = df['don'] / df['total']\n",
    "print('Test: {}, {}\\nCtrl: {}, {}'.format(n1, p1, n2, p2))"
   ]
  },
  {
   "cell_type": "code",
   "execution_count": 48,
   "metadata": {},
   "outputs": [
    {
     "name": "stdout",
     "output_type": "stream",
     "text": [
      "-0.7070000000000001\n",
      "151.5\n",
      "-2160.0\n",
      "2000\n"
     ]
    }
   ],
   "source": [
    "l0 = df.loc['ctrl', 'don'] * delta * (1 - delta)\n",
    "l1 = (n2*delta - N - 2*df.loc['ctrl', 'don']) * delta + df['don'].sum()\n",
    "l2 = (N + n2)*delta - N - df['don'].sum()\n",
    "l3 = N\n",
    "for i in [l0, l1, l2, l3]:\n",
    "    print(i)"
   ]
  },
  {
   "cell_type": "code",
   "execution_count": 49,
   "metadata": {},
   "outputs": [
    {
     "name": "stdout",
     "output_type": "stream",
     "text": [
      "-0.033197750000000005 -0.3230325061042619 1.10529455981647\n"
     ]
    }
   ],
   "source": [
    "C = (l2**3 / (27 * (l3**3))) - (l1*l2)/(6 * (l3**2)) + l0/(2*l3)\n",
    "B = np.sign(C) * np.sqrt((l2**2)/(9 * (l3**2)) - l1/(3*l3))\n",
    "A = (1/3) * (np.pi + np.arccos(C/(B**3)))\n",
    "print(C, B, A)"
   ]
  },
  {
   "cell_type": "code",
   "execution_count": 50,
   "metadata": {},
   "outputs": [
    {
     "name": "stdout",
     "output_type": "stream",
     "text": [
      "0.059999999999999505 0.06999999999999951 -0.010000000000000002\n"
     ]
    }
   ],
   "source": [
    "p2_cd = 2*B*np.cos(A) - l2/(3*l3)  # constrained p\n",
    "p1_cd = p2_cd + delta\n",
    "print(p1_cd, p2_cd, p1_cd - p2_cd)"
   ]
  },
  {
   "cell_type": "code",
   "execution_count": 51,
   "metadata": {},
   "outputs": [
    {
     "name": "stdout",
     "output_type": "stream",
     "text": [
      "-7.86689802094413e-16\n"
     ]
    }
   ],
   "source": [
    "z_MND_num = p1 - p2 - delta\n",
    "z_MND_den = (p1_cd*(1-p1_cd)/n1 + p2_cd*(1-p2_cd)/n2) * N / (N-1)\n",
    "z_MND_den = np.sqrt(z_MND_den)\n",
    "z_MND = z_MND_num / z_MND_den\n",
    "print(z_MND)"
   ]
  },
  {
   "cell_type": "markdown",
   "metadata": {},
   "source": [
    "p38 => this is treated as a standard z-score, and therefore is turned into a p-value by:"
   ]
  },
  {
   "cell_type": "code",
   "execution_count": 52,
   "metadata": {},
   "outputs": [
    {
     "data": {
      "text/plain": [
       "0.49999999999999967"
      ]
     },
     "execution_count": 52,
     "metadata": {},
     "output_type": "execute_result"
    }
   ],
   "source": [
    "norm.cdf(z_MND)"
   ]
  },
  {
   "cell_type": "markdown",
   "metadata": {},
   "source": [
    "It being p=0.5 for a situ where the observed difference seen is the actual NIM makes sense! Looks good => to functionify it:"
   ]
  },
  {
   "cell_type": "code",
   "execution_count": 53,
   "metadata": {},
   "outputs": [
    {
     "name": "stdout",
     "output_type": "stream",
     "text": [
      "(-7.86689802094413e-16, 0.49999999999999967)\n"
     ]
    }
   ],
   "source": [
    "def mndifference(datafr, nim):\n",
    "    \"\"\"Perform the Miettinen-Nurminen Large-Sample Score Test of the Difference.\n",
    "    \n",
    "    Parameters\n",
    "    ----------\n",
    "    datafr : pd.DataFrame\n",
    "        The data to run the test on.\n",
    "        Columns: don, non, total\n",
    "        Index: test, ctrl\n",
    "        N.B. the convention here is that the experiment is indexed as 1, and the control as 2, in reverse of normal.\n",
    "    nim : float, <0 when lower is worse.\n",
    "        The Non-Inferiority Margin: the amount that P1 can be less than P2 and you still conclude that\n",
    "        group 1 (treatment) is not inferior to group 2 (control).\n",
    "\n",
    "    Returns\n",
    "    -------\n",
    "    ? : ?\n",
    "        Blah\n",
    "    \"\"\"\n",
    "    [n1, n2] = datafr['total']\n",
    "    N = n1 + n2\n",
    "    [p1, p2] = datafr['don'] / datafr['total']\n",
    "    \n",
    "    l0 = datafr.loc['ctrl', 'don'] * nim * (1 - nim)\n",
    "    l1 = (n2*nim - N - 2*datafr.loc['ctrl', 'don']) * nim + datafr['don'].sum()\n",
    "    l2 = (N + n2)*nim - N - datafr['don'].sum()\n",
    "    l3 = N\n",
    "    \n",
    "    C = (l2**3 / (27 * (l3**3))) - (l1*l2)/(6 * (l3**2)) + l0/(2*l3)\n",
    "    B = np.sign(C) * np.sqrt((l2**2)/(9 * (l3**2)) - l1/(3*l3))\n",
    "    A = (1/3) * (np.pi + np.arccos(C/(B**3)))\n",
    "    \n",
    "    p2_cd = 2*B*np.cos(A) - l2/(3*l3)  # constrained p\n",
    "    p1_cd = p2_cd + nim\n",
    "    \n",
    "    z_MND_num = p1 - p2 - nim\n",
    "    z_MND_den = (p1_cd*(1-p1_cd)/n1 + p2_cd*(1-p2_cd)/n2) * N / (N-1)\n",
    "    z_MND_den = np.sqrt(z_MND_den)\n",
    "    z_MND = z_MND_num / z_MND_den\n",
    "\n",
    "    return z_MND, norm.cdf(z_MND)\n",
    "\n",
    "\n",
    "print(mndifference(df, delta))"
   ]
  },
  {
   "cell_type": "code",
   "execution_count": 63,
   "metadata": {},
   "outputs": [
    {
     "name": "stdout",
     "output_type": "stream",
     "text": [
      "      don  non  total\n",
      "test   20  980   1000\n",
      "ctrl   70  930   1000 \n",
      " (-4.420962695675758, 4.913106912466956e-06)\n",
      "      don  non  total\n",
      "test   30  970   1000\n",
      "ctrl   70  930   1000 \n",
      " (-3.1217719308486593, 0.0008988307140223216)\n",
      "      don  non  total\n",
      "test   40  960   1000\n",
      "ctrl   70  930   1000 \n",
      " (-1.976435234975862, 0.024052752090734805)\n",
      "      don  non  total\n",
      "test   50  950   1000\n",
      "ctrl   70  930   1000 \n",
      " (-0.9444304035075204, 0.1724748754867339)\n",
      "      don  non  total\n",
      "test   60  940   1000\n",
      "ctrl   70  930   1000 \n",
      " (-7.86689802094413e-16, 0.49999999999999967)\n",
      "      don  non  total\n",
      "test   70  930   1000\n",
      "ctrl   70  930   1000 \n",
      " (0.8744367809944982, 0.8090597828474668)\n",
      "      don  non  total\n",
      "test   80  920   1000\n",
      "ctrl   70  930   1000 \n",
      " (1.6915062296095362, 0.9546299204970722)\n",
      "      don  non  total\n",
      "test   90  910   1000\n",
      "ctrl   70  930   1000 \n",
      " (2.4606304765911533, 0.9930653434310451)\n",
      "      don  non  total\n",
      "test  100  900   1000\n",
      "ctrl   70  930   1000 \n",
      " (3.189054413504759, 0.9992863049662908)\n",
      "      don  non  total\n",
      "test  110  890   1000\n",
      "ctrl   70  930   1000 \n",
      " (3.8824848089437456, 0.9999483027612758)\n",
      "      don  non  total\n",
      "test  120  880   1000\n",
      "ctrl   70  930   1000 \n",
      " (4.545507121426684, 0.9999972598427935)\n"
     ]
    }
   ],
   "source": [
    "diff_range = 50\n",
    "differences = range(-diff_range, diff_range+1, 10)\n",
    "\n",
    "for diff in differences:\n",
    "    test_convs = 70+diff\n",
    "    step_data = {'test': [test_convs, 1000-test_convs, 1000], 'ctrl': [70, 1000-70, 1000]}\n",
    "    step_df = pd.DataFrame.from_dict(step_data, orient='index', columns=['don', 'non', 'total'])\n",
    "    print(step_df, '\\n', mndifference(step_df, delta))"
   ]
  },
  {
   "cell_type": "markdown",
   "metadata": {},
   "source": [
    "Hm, that's wrong. p38 => p<0.05 should show that the experimental treatment is non-inferior to the standard treatment.\n",
    "\n",
    "But this is doing the reverse: p is getting larger as the test becomes more non-inferior! Reversed the p-val somewhere?"
   ]
  },
  {
   "cell_type": "code",
   "execution_count": null,
   "metadata": {},
   "outputs": [],
   "source": []
  }
 ],
 "metadata": {
  "kernelspec": {
   "display_name": "Python 3",
   "language": "python",
   "name": "python3"
  },
  "language_info": {
   "codemirror_mode": {
    "name": "ipython",
    "version": 3
   },
   "file_extension": ".py",
   "mimetype": "text/x-python",
   "name": "python",
   "nbconvert_exporter": "python",
   "pygments_lexer": "ipython3",
   "version": "3.7.1"
  }
 },
 "nbformat": 4,
 "nbformat_minor": 2
}
