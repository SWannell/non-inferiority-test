{
 "cells": [
  {
   "cell_type": "code",
   "execution_count": 1,
   "metadata": {},
   "outputs": [],
   "source": [
    "import pandas as pd\n",
    "import numpy as np\n",
    "from scipy.stats import norm\n",
    "import seaborn as sns\n",
    "import matplotlib.pyplot as plt\n",
    "%matplotlib inline"
   ]
  },
  {
   "cell_type": "markdown",
   "metadata": {},
   "source": [
    "Approach taken from NCSS' guide [Two Proportions – Non-Inferiority, Superiority, Equivalence, and Two-Sided Tests vs. a Margin](https://ncss-wpengine.netdna-ssl.com/wp-content/themes/ncss/pdf/Procedures/NCSS/Two_Proportions-Non-Inferiority,_Superiority,_Equivalence,_and_Two-Sided_Tests_vs_a_Margin.pdf), as with previous statistical approaches (i.e. as their guides include detailed formulae)."
   ]
  },
  {
   "cell_type": "code",
   "execution_count": 2,
   "metadata": {},
   "outputs": [
    {
     "name": "stdout",
     "output_type": "stream",
     "text": [
      "      don  non\n",
      "test   60  940\n",
      "ctrl   70  930\n"
     ]
    }
   ],
   "source": [
    "data = {'test': [60, 1000-60], 'ctrl': [70, 1000-70]}\n",
    "# N.B. convention = test is n1 and p1, ctrl is n2 and p2, hence the order\n",
    "\n",
    "df = pd.DataFrame.from_dict(data, orient='index',\n",
    "                            columns=['don', 'non'])\n",
    "print(df)"
   ]
  },
  {
   "cell_type": "code",
   "execution_count": 3,
   "metadata": {},
   "outputs": [],
   "source": [
    "delta = -0.01  # The non-inferiority margin"
   ]
  },
  {
   "cell_type": "markdown",
   "metadata": {},
   "source": [
    "Take the test statistic from p19-20."
   ]
  },
  {
   "cell_type": "code",
   "execution_count": 4,
   "metadata": {},
   "outputs": [
    {
     "name": "stdout",
     "output_type": "stream",
     "text": [
      "Test: 1000, 0.06\n",
      "Ctrl: 1000, 0.07\n"
     ]
    }
   ],
   "source": [
    "df['total'] = df.sum(axis=1)\n",
    "[n1, n2] = df['total']\n",
    "N = n1 + n2\n",
    "[p1, p2] = df['don'] / df['total']\n",
    "print('Test: {}, {}\\nCtrl: {}, {}'.format(n1, p1, n2, p2))"
   ]
  },
  {
   "cell_type": "code",
   "execution_count": 5,
   "metadata": {},
   "outputs": [
    {
     "name": "stdout",
     "output_type": "stream",
     "text": [
      "-0.7070000000000001\n",
      "151.5\n",
      "-2160.0\n",
      "2000\n"
     ]
    }
   ],
   "source": [
    "l0 = df.loc['ctrl', 'don'] * delta * (1 - delta)\n",
    "l1 = (n2*delta - N - 2*df.loc['ctrl', 'don']) * delta + df['don'].sum()\n",
    "l2 = (N + n2)*delta - N - df['don'].sum()\n",
    "l3 = N\n",
    "for i in [l0, l1, l2, l3]:\n",
    "    print(i)"
   ]
  },
  {
   "cell_type": "code",
   "execution_count": 6,
   "metadata": {},
   "outputs": [
    {
     "name": "stdout",
     "output_type": "stream",
     "text": [
      "-0.033197750000000005 -0.3230325061042619 1.10529455981647\n"
     ]
    }
   ],
   "source": [
    "C = (l2**3 / (27 * (l3**3))) - (l1*l2)/(6 * (l3**2)) + l0/(2*l3)\n",
    "B = np.sign(C) * np.sqrt((l2**2)/(9 * (l3**2)) - l1/(3*l3))\n",
    "A = (1/3) * (np.pi + np.arccos(C/(B**3)))\n",
    "print(C, B, A)"
   ]
  },
  {
   "cell_type": "code",
   "execution_count": 7,
   "metadata": {},
   "outputs": [
    {
     "name": "stdout",
     "output_type": "stream",
     "text": [
      "0.059999999999999505 0.06999999999999951 -0.010000000000000002\n"
     ]
    }
   ],
   "source": [
    "p2_cd = 2*B*np.cos(A) - l2/(3*l3)  # constrained p\n",
    "p1_cd = p2_cd + delta\n",
    "print(p1_cd, p2_cd, p1_cd - p2_cd)"
   ]
  },
  {
   "cell_type": "code",
   "execution_count": 8,
   "metadata": {},
   "outputs": [
    {
     "name": "stdout",
     "output_type": "stream",
     "text": [
      "-7.86689802094413e-16\n"
     ]
    }
   ],
   "source": [
    "z_MND_num = p1 - p2 - delta\n",
    "z_MND_den = (p1_cd*(1-p1_cd)/n1 + p2_cd*(1-p2_cd)/n2) * N / (N-1)\n",
    "z_MND_den = np.sqrt(z_MND_den)\n",
    "z_MND = z_MND_num / z_MND_den\n",
    "print(z_MND)"
   ]
  },
  {
   "cell_type": "markdown",
   "metadata": {},
   "source": [
    "p38 => this is treated as a standard z-score, and therefore is turned into a p-value by:"
   ]
  },
  {
   "cell_type": "code",
   "execution_count": 9,
   "metadata": {},
   "outputs": [
    {
     "data": {
      "text/plain": [
       "0.49999999999999967"
      ]
     },
     "execution_count": 9,
     "metadata": {},
     "output_type": "execute_result"
    }
   ],
   "source": [
    "norm.cdf(z_MND)"
   ]
  },
  {
   "cell_type": "markdown",
   "metadata": {},
   "source": [
    "It being p=0.5 for a situ where the observed difference seen is the actual NIM makes sense! Looks good => to functionify it:"
   ]
  },
  {
   "cell_type": "code",
   "execution_count": 10,
   "metadata": {},
   "outputs": [
    {
     "name": "stdout",
     "output_type": "stream",
     "text": [
      "(7.86689802094413e-16, 0.8413447460685428)\n"
     ]
    }
   ],
   "source": [
    "def mndifference(datafr, nim):\n",
    "    \"\"\"Perform the Miettinen-Nurminen Large-Sample Score Test of the Difference.\n",
    "    \n",
    "    Parameters\n",
    "    ----------\n",
    "    datafr : pd.DataFrame\n",
    "        The data to run the test on.\n",
    "        Columns: don, non, total\n",
    "        Index: test, ctrl\n",
    "        N.B. the convention here is that the experiment is indexed as 1, and the control as 2, in reverse of normal.\n",
    "    nim : float, <0 when lower is worse.\n",
    "        The Non-Inferiority Margin: the amount that P1 can be less than P2 and you still conclude that\n",
    "        group 1 (treatment) is not inferior to group 2 (control).\n",
    "\n",
    "    Returns\n",
    "    -------\n",
    "    ? : ?\n",
    "        Blah\n",
    "    \"\"\"\n",
    "    [n1, n2] = datafr['total']\n",
    "    N = n1 + n2\n",
    "    [p1, p2] = datafr['don'] / datafr['total']\n",
    "    \n",
    "    l0 = datafr.loc['ctrl', 'don'] * nim * (1 - nim)\n",
    "    l1 = (n2*nim - N - 2*datafr.loc['ctrl', 'don']) * nim + datafr['don'].sum()\n",
    "    l2 = (N + n2)*nim - N - datafr['don'].sum()\n",
    "    l3 = N\n",
    "    \n",
    "    C = (l2**3 / (27 * (l3**3))) - (l1*l2)/(6 * (l3**2)) + l0/(2*l3)\n",
    "    B = np.sign(C) * np.sqrt((l2**2)/(9 * (l3**2)) - l1/(3*l3))\n",
    "    A = (1/3) * (np.pi + np.arccos(C/(B**3)))\n",
    "    \n",
    "    p2_cd = 2*B*np.cos(A) - l2/(3*l3)  # constrained p\n",
    "    p1_cd = p2_cd + nim\n",
    "    \n",
    "    z_MND_num = p2 - p1 + nim\n",
    "    z_MND_den = (p1_cd*(1-p1_cd)/n1 + p2_cd*(1-p2_cd)/n2) * N / (N-1)\n",
    "    z_MND_den = np.sqrt(z_MND_den)\n",
    "    z_MND = z_MND_num / z_MND_den\n",
    "\n",
    "    return z_MND, norm.cdf(1-z_MND)\n",
    "\n",
    "\n",
    "print(mndifference(df, delta))"
   ]
  },
  {
   "cell_type": "code",
   "execution_count": 11,
   "metadata": {},
   "outputs": [
    {
     "name": "stdout",
     "output_type": "stream",
     "text": [
      "       don   non  total\n",
      "test   900  9100  10000\n",
      "ctrl  1200  8800  10000 \n",
      "ctr1 = 0.09\n",
      "ctr2 = 0.12\n",
      "z: -2.303390756582445\n",
      "p: 0.999522384102156\n",
      "NIM: -0.04\n",
      "       don   non  total\n",
      "test  1000  9000  10000\n",
      "ctrl  1200  8800  10000 \n",
      "ctr1 = 0.1\n",
      "ctr2 = 0.12\n",
      "z: -4.500807405945609\n",
      "p: 0.9999999810972005\n",
      "NIM: -0.04\n",
      "       don   non  total\n",
      "test  1100  8900  10000\n",
      "ctrl  1200  8800  10000 \n",
      "ctr1 = 0.11\n",
      "ctr2 = 0.12\n",
      "z: -6.606882485347294\n",
      "p: 0.999999999999986\n",
      "NIM: -0.04\n",
      "       don   non  total\n",
      "test  1200  8800  10000\n",
      "ctrl  1200  8800  10000 \n",
      "ctr1 = 0.12\n",
      "ctr2 = 0.12\n",
      "z: -8.633283165227821\n",
      "p: 1.0\n",
      "NIM: -0.04\n",
      "       don   non  total\n",
      "test  1300  8700  10000\n",
      "ctrl  1200  8800  10000 \n",
      "ctr1 = 0.13\n",
      "ctr2 = 0.12\n",
      "z: -10.589502001723977\n",
      "p: 1.0\n",
      "NIM: -0.04\n",
      "       don   non  total\n",
      "test  1400  8600  10000\n",
      "ctrl  1200  8800  10000 \n",
      "ctr1 = 0.14\n",
      "ctr2 = 0.12\n",
      "z: -12.483393493598182\n",
      "p: 1.0\n",
      "NIM: -0.04\n",
      "       don   non  total\n",
      "test  1500  8500  10000\n",
      "ctrl  1200  8800  10000 \n",
      "ctr1 = 0.15\n",
      "ctr2 = 0.12\n",
      "z: -14.321550228593223\n",
      "p: 1.0\n",
      "NIM: -0.04\n"
     ]
    }
   ],
   "source": [
    "diff_range = 300\n",
    "differences = range(-diff_range, diff_range+1, 100)\n",
    "# step_nim = -0.04\n",
    "\n",
    "for diff in differences:\n",
    "    ctrl_convs = 1200\n",
    "    cell_size = 10000\n",
    "    test_convs = ctrl_convs + diff\n",
    "    step_nim = - (ctrl_convs / cell_size) / 3\n",
    "    step_data = {'test': [test_convs, cell_size-test_convs, cell_size],\n",
    "                 'ctrl': [ctrl_convs, cell_size-ctrl_convs, cell_size]}\n",
    "    step_df = pd.DataFrame.from_dict(step_data, orient='index', columns=['don', 'non', 'total'])\n",
    "    step_z, step_p = mndifference(step_df, step_nim)\n",
    "    step_p1 = step_df.loc['test', 'don'] / step_df.loc['test', 'total']\n",
    "    step_p2 = step_df.loc['ctrl', 'don'] / step_df.loc['ctrl', 'total']\n",
    "    print(step_df, '\\nctr1 = {}\\nctr2 = {}\\nz: {}\\np: {}\\nNIM: {}'.format(step_p1, step_p2, step_z, step_p, step_nim))"
   ]
  },
  {
   "cell_type": "markdown",
   "metadata": {},
   "source": [
    "p38 => p<0.05 means that the experimental treatment is non-inferior to the standard treatment. So the p-value getting smaller as the test cvr increases is correct, as smaller p => more sure the test is non-inferior\n",
    "\n",
    "But it looks like bigger sample sizes leads to an equivalent difference (e.g. of -0.02) getting a smaller p-value -- shouldn't it be the reverse? We should be more certain that a test is inferior if the sample size increases i.e. a sample size increase should lead "
   ]
  },
  {
   "cell_type": "markdown",
   "metadata": {},
   "source": [
    "# Sample size calculation\n",
    "\n",
    "From [Power calculator for binary outcome non-inferiority trial](https://www.sealedenvelope.com/power/binary-noninferior/) (Sealed Envelope Ltd, 2012, accessed Fri Jul 17 2020):\n",
    "\n",
    "> n = f(α, β) × [πs × (100 − πs) + πe × (100 − πe)] / (πs − πe − d)2\n",
    "where πs and πe are the true percent 'success' in the standard and experimental treatment group respectively, and\n",
    "> \n",
    "> f(α, β) = [Φ-1(α) + Φ-1(β)]2\n",
    "Φ-1 is the cumulative distribution function of a standardised normal deviate.\n",
    "\n",
    "Which you turn into the power by (cf. [Calculate Sample Size Needed to Compare 2 Proportions: 2-Sample Non-Inferiority or Superiority](http://powerandsamplesize.com/Calculators/Compare-2-Proportions/2-Sample-Non-Inferiority-or-Superiority):\n",
    "\n",
    "\\begin{equation*}\n",
    "n_A=\\kappa n_B \\;\\text{ and }\\;\n",
    "\t\tn_B=\\left(\\frac{p_A(1-p_A)}{\\kappa}+p_B(1-p_B)\\right)\n",
    "\t\t\t\\left(\\frac{z_{1-\\alpha}+z_{1-\\beta}}{p_A-p_B-\\delta}\\right)^2\n",
    "\\end{equation*}\n",
    "\\begin{equation*}\n",
    "1-\\beta=\n",
    "\t\t\t\\Phi\\left(z-z_{1-\\alpha/2}\\right)+\\Phi\\left(-z-z_{1-\\alpha/2}\\right)\n",
    "\t\t\t\\quad ,\\quad z=\\frac{p_A-p_B-\\delta}{\\sqrt{\\frac{p_A(1-p_A)}{n_A}+\\frac{p_B(1-p_B)}{n_B}}}\n",
    "\\end{equation*}\n",
    "\n",
    "N.B. http://albertotb.com/Equivalence-between-distribution-functions-in-R-and-Python/ => that pnorm is cdf and qnorm is inverse cdf i.e. ppf.\n",
    "\n",
    "**N.B. d is chosen above as negative to be clear we're talking about avoiding a lower effect. You want (ctrl - test - d) in the calculation for d>0 => it's ctrl-test+d for d<0. Reversing the sign of d, or reversing ctrl/test, results in {test >> ctrl} => {n gets larger} - clearly the wrong way round.**"
   ]
  },
  {
   "cell_type": "code",
   "execution_count": 12,
   "metadata": {},
   "outputs": [],
   "source": [
    "def noninferior_sample_size(p_ctrl, p_test, margin, alpha=0.05, beta=0.2):\n",
    "    \"\"\"\n",
    "    Perform a sample size calculation for a non-inferiority / superiority test, based around a given margin.\n",
    "    \"\"\"\n",
    "    f = (norm.ppf(1-alpha) + norm.ppf(1-beta)) ** 2\n",
    "    n = f * (p_ctrl*(1-p_ctrl) + p_test*(1-p_test)) / ((p_ctrl - p_test + margin) ** 2)\n",
    "    # Ctrl > test = bad => ctrl - test + margin (where margin < 0)\n",
    "    z = (p_ctrl - p_test + margin) / np.sqrt(p_ctrl*(1-p_ctrl)/n + p_test*(1-p_test)/n)\n",
    "    # power = norm.cdf(z-norm.ppf(1-alpha)) + norm.cdf(-z-norm.ppf(1-alpha)) - Not necessary - as we're specifying a given power\n",
    "    return (int(np.ceil(n)), z)"
   ]
  },
  {
   "cell_type": "code",
   "execution_count": 13,
   "metadata": {},
   "outputs": [
    {
     "name": "stdout",
     "output_type": "stream",
     "text": [
      "      0.07  0.08  0.09  0.10  0.11  0.12  0.13\n",
      "0.05  2398  1124   665   446   323   247   197\n",
      "0.10   196   159   132   112    97    84    75\n",
      "0.15    67    60    55    50    46    42    39\n",
      "0.20    34    32    30    28    27    25    24\n",
      "0.25    20    20    19    18    18    17    17\n",
      "0.30    14    13    13    13    13    12    12\n",
      "0.35    10    10    10    10     9     9     9\n",
      "0.40     8     8     7     7     7     7     7\n"
     ]
    }
   ],
   "source": [
    "p_standard = 0.10\n",
    "# p_exp = 0.10\n",
    "d = -0.20\n",
    "alpha = 0.05\n",
    "beta = 0.20\n",
    "\n",
    "p_gap = 3\n",
    "p_range = [i/100 for i in range(int(p_standard*100)-p_gap, int(p_standard*100)+p_gap+1)]\n",
    "margin_range = [i/100 for i in range(5, 40+1, 5)]\n",
    "sample_sizes = pd.DataFrame(index=margin_range, columns=p_range)\n",
    "for expected_p in p_range:\n",
    "    for expected_margin in margin_range:\n",
    "        n, z = noninferior_sample_size(p_standard, expected_p, -expected_margin)\n",
    "        sample_sizes.loc[expected_margin, expected_p] = n\n",
    "print(sample_sizes)"
   ]
  },
  {
   "cell_type": "code",
   "execution_count": 14,
   "metadata": {},
   "outputs": [
    {
     "name": "stdout",
     "output_type": "stream",
     "text": [
      "0.1 0.07 -0.2 34 -2.4864748605243863\n",
      "0.1 0.08 -0.2 32 -2.4864748605243863\n",
      "0.1 0.09 -0.2 30 -2.4864748605243863\n",
      "0.1 0.1 -0.2 28 -2.4864748605243863\n",
      "0.1 0.11 -0.2 27 -2.4864748605243863\n",
      "0.1 0.12 -0.2 25 -2.4864748605243863\n",
      "0.1 0.13 -0.2 24 -2.4864748605243863\n"
     ]
    }
   ],
   "source": [
    "for percent_exp in range(7, 13+1):\n",
    "    p_exp = percent_exp / 100\n",
    "    n_iter, z_iter = noninferior_sample_size(p_standard, p_exp, d)\n",
    "    print(p_standard, p_exp, d, n_iter, z_iter)"
   ]
  },
  {
   "cell_type": "markdown",
   "metadata": {},
   "source": [
    "**Why is the z not changing? FFS.**\n",
    "\n",
    "f is constant => n should be proportional to (p_ctrl*(1-p_ctrl) + p_test*(1-p_test)) / ((p_ctrl - p_test + margin) ** 2)"
   ]
  },
  {
   "cell_type": "markdown",
   "metadata": {},
   "source": [
    "n = f(α, β) × [πs × (100 − πs) + πe × (100 − πe)] / (πs − πe − d)2 where πs and πe are the true percent 'success' in the standard and experimental treatment group respectively, and\n",
    "\n",
    "f(α, β) = [Φ-1(α) + Φ-1(β)]2 Φ-1 is the cumulative distribution function of a standardised normal deviate."
   ]
  },
  {
   "cell_type": "code",
   "execution_count": 15,
   "metadata": {},
   "outputs": [
    {
     "name": "stdout",
     "output_type": "stream",
     "text": [
      "Ctrl rate: 0.10\n",
      "Test rate: 0.09\n",
      "Calculated n: 29\n",
      "z-score: -0.1900/0.0764\n",
      "\n",
      "Ctrl rate: 0.10\n",
      "Test rate: 0.10\n",
      "Calculated n: 28\n",
      "z-score: -0.2000/0.0804\n",
      "\n",
      "Ctrl rate: 0.10\n",
      "Test rate: 0.11\n",
      "Calculated n: 26\n",
      "z-score: -0.2100/0.0845\n",
      "\n"
     ]
    }
   ],
   "source": [
    "# This is a power calc. Trying to get n based on ctrl/test conversion rates + a margin\n",
    "d = -0.2\n",
    "for p_ctrl in [0.10]:\n",
    "    for p_test in [i/100 for i in range(9, 11+1)]:\n",
    "        f_iter = (norm.ppf(1-alpha) + norm.ppf(1-beta)) ** 2\n",
    "        n_iter = f_iter * (p_ctrl*(1-p_ctrl) + p_test*(1-p_test)) / ((p_ctrl - p_test + d) ** 2)\n",
    "        z_iter_num = (p_ctrl - p_test + d)\n",
    "        z_iter_denom = np.sqrt(p_ctrl*(1-p_ctrl)/n_iter + p_test*(1-p_test)/n_iter)\n",
    "        print(\"Ctrl rate: {:.2f}\\nTest rate: {:.2f}\".format(p_ctrl, p_test))\n",
    "        print(\"Calculated n: {:.0f}\\nz-score: {:.4f}/{:.4f}\\n\".format(n_iter, z_iter_num, z_iter_denom))"
   ]
  },
  {
   "cell_type": "markdown",
   "metadata": {},
   "source": [
    "The z num and denom are changing by the same rate. Probably obvious if had worked through the formulae! Because in a real experiment, you're estimating alpha from the data, not fixing it at 0.05. Obv!\n",
    "\n",
    "=> try calculating the z by the previous approach (but avoiding the complication of the estimators, just as a POC)"
   ]
  },
  {
   "cell_type": "code",
   "execution_count": 16,
   "metadata": {},
   "outputs": [
    {
     "name": "stdout",
     "output_type": "stream",
     "text": [
      "10 -0.15733881028688976 0.43748891748268465\n",
      "30 -0.282431807984457 0.38880621404097293\n",
      "50 -0.3671238906694094 0.35676330373918685\n",
      "100 -0.5218337986825238 0.300893027395649\n",
      "300 -0.9068807875548944 0.1822349210079366\n",
      "500 -1.1715609297962006 0.12068669096005968\n",
      "1000 -1.657667227068455 0.04869232611815708\n",
      "3000 -2.8721217121814933 0.002038629502111436\n"
     ]
    }
   ],
   "source": [
    "p_standard = 0.10\n",
    "p_exp = 0.08\n",
    "d = -0.05\n",
    "alpha = 0.05\n",
    "beta = 0.20\n",
    "\n",
    "z_num = p_standard - p_exp + d\n",
    "\n",
    "for n in [10, 30, 50, 100, 300, 500, 1000, 3000]:\n",
    "    n1, n2 = [n//2]*2\n",
    "    z_den = (p_standard*(1-p_standard)/n1 + p_exp*(1-p_exp)/n2) * (n1+n2) / (n1+n2-1)\n",
    "    z_den = np.sqrt(z_den)\n",
    "    z = z_num / z_den\n",
    "    p = norm.cdf(z)\n",
    "    print(n, z, p)"
   ]
  },
  {
   "cell_type": "markdown",
   "metadata": {},
   "source": [
    "Looks right => use to build an MDE calculator"
   ]
  },
  {
   "cell_type": "code",
   "execution_count": 17,
   "metadata": {},
   "outputs": [
    {
     "name": "stdout",
     "output_type": "stream",
     "text": [
      "ctrl rate: 0.10\n",
      "test rate: 0.08\n",
      "margin: -0.05\n"
     ]
    },
    {
     "data": {
      "text/plain": [
       "(-2.8721217121814933, 0.002038629502111436)"
      ]
     },
     "execution_count": 17,
     "metadata": {},
     "output_type": "execute_result"
    }
   ],
   "source": [
    "def noninferior_zscore(n_ctrl, n_test, p_ctrl, p_test, margin):\n",
    "    \"\"\"Calculate a z-score from a given set of experimental data\"\"\"\n",
    "    z_num = p_ctrl - p_test + margin\n",
    "    z_den = (p_ctrl*(1-p_ctrl)/n_ctrl + p_test*(1-p_test)/n_test) * (n_ctrl+n_test) / (n1+n2-1)\n",
    "    z_den = np.sqrt(z_den)\n",
    "    z = z_num / z_den\n",
    "    p = norm.cdf(z)\n",
    "    return z, p\n",
    "\n",
    "print(\"ctrl rate: {:.2f}\\ntest rate: {:.2f}\\nmargin: {}\".format(p_standard, p_exp, d))\n",
    "noninferior_zscore(1500, 1500, p_standard, p_exp, d)"
   ]
  },
  {
   "cell_type": "code",
   "execution_count": 24,
   "metadata": {},
   "outputs": [
    {
     "name": "stdout",
     "output_type": "stream",
     "text": [
      "The test statistic is z(∆=-0.01, N=22,867)=-1.86, p=0.03<0.05.\n"
     ]
    }
   ],
   "source": [
    "nit_z, nit_p = noninferior_zscore(18293, 4574, 0.0442, 0.0529, -0.01)\n",
    "print(\"The test statistic is z(∆={}, N={:,})={:.2f}, p={:.2f}<0.05.\".format(-0.01, 18293 + 4574, nit_z, nit_p))"
   ]
  },
  {
   "cell_type": "code",
   "execution_count": 36,
   "metadata": {},
   "outputs": [
    {
     "name": "stdout",
     "output_type": "stream",
     "text": [
      "Rows = margin\n",
      "Columns = test rate (vs 0.1 for control)\n",
      "\n",
      "             0.07         0.08         0.09         0.10         0.11  \\\n",
      "0.01      0.97538     0.830811          0.5     0.180695    0.0369969   \n",
      "0.02      0.83726          0.5     0.175158    0.0339675   0.00368136   \n",
      "0.03          0.5     0.169189    0.0308845   0.00308924  0.000176253   \n",
      "0.04      0.16274    0.0277623   0.00253993  0.000130674  3.97309e-06   \n",
      "0.05    0.0246196   0.00203863  9.35224e-05  2.51427e-06  4.16215e-08   \n",
      "0.06   0.00159004  6.42031e-05  1.50691e-06   2.1714e-08   2.0096e-10   \n",
      "0.07  4.19408e-05  8.47014e-07  1.04821e-08  8.34699e-11  4.44749e-13   \n",
      "0.08  4.41002e-07  4.61664e-09  3.12098e-11  1.42024e-13  4.49443e-16   \n",
      "0.09  1.82252e-09  1.03063e-11  3.95524e-14  1.06553e-16  2.06823e-19   \n",
      "0.10   2.9343e-12  9.36996e-15  2.12521e-17  3.51509e-20   4.3252e-23   \n",
      "\n",
      "             0.12         0.13  \n",
      "0.01    0.0043109  0.000294109  \n",
      "0.02  0.000230662  8.68607e-06  \n",
      "0.03  5.99336e-06  1.26488e-07  \n",
      "0.04  7.46604e-08   9.0092e-10  \n",
      "0.05  4.42274e-10  3.12175e-12  \n",
      "0.06  1.23911e-12  5.24269e-15  \n",
      "0.07  1.63569e-15  4.25579e-18  \n",
      "0.08  1.01458e-18   1.6665e-21  \n",
      "0.09   2.9511e-22  3.14318e-25  \n",
      "0.10  4.01915e-26  2.85205e-29  \n"
     ]
    }
   ],
   "source": [
    "pct_standard = 0.10\n",
    "alpha = 0.05\n",
    "beta = 0.20\n",
    "\n",
    "pct_gap = 0.03\n",
    "pct_range = [i/100 for i in range(int((pct_standard-pct_gap)*100), int((pct_standard+pct_gap)*100+1))]\n",
    "margin_range = [i/100 for i in range(1, 10+1)]\n",
    "p_values = pd.DataFrame(index=margin_range, columns=pct_range)\n",
    "\n",
    "for expected_pct in pct_range:\n",
    "    for expected_margin in margin_range:\n",
    "        n = 1000\n",
    "        z, p = noninferior_zscore(n//2, n//2, pct_standard, expected_pct, -expected_margin)\n",
    "        p_values.loc[expected_margin, expected_pct] = p\n",
    "print(\"Rows = margin\\nColumns = test rate (vs {} for control)\\n\".format(pct_standard))\n",
    "print(p_values)"
   ]
  },
  {
   "cell_type": "code",
   "execution_count": 37,
   "metadata": {},
   "outputs": [
    {
     "data": {
      "text/plain": [
       "Text(0.5, 1.0, 'Rows = margin\\nColumns = test rate (vs 0.1 for control)\\n')"
      ]
     },
     "execution_count": 37,
     "metadata": {},
     "output_type": "execute_result"
    },
    {
     "data": {
      "image/png": "[encoded data removed]",
      "text/plain": [
       "<Figure size 432x288 with 2 Axes>"
      ]
     },
     "metadata": {
      "needs_background": "light"
     },
     "output_type": "display_data"
    }
   ],
   "source": [
    "hotcoldcmap = sns.diverging_palette(250, 15, s=75, l=40, n=9, center=\"dark\")\n",
    "sns.heatmap(p_values.astype(float), annot=True, cmap=hotcoldcmap, vmax=0.10)\n",
    "plt.title(\"Rows = margin\\nColumns = test rate (vs {} for control)\\n\".format(pct_standard))"
   ]
  },
  {
   "cell_type": "markdown",
   "metadata": {},
   "source": [
    "0.03 looks like a good margin - allows a bit of noise (0.09 vs 0.10) but not much."
   ]
  },
  {
   "cell_type": "markdown",
   "metadata": {},
   "source": [
    "MDE calculation (approach from chi squared MDE calculator):"
   ]
  },
  {
   "cell_type": "code",
   "execution_count": 48,
   "metadata": {},
   "outputs": [
    {
     "name": "stdout",
     "output_type": "stream",
     "text": [
      "Volume: 32884\n",
      "Conversions: 2334\n",
      "\n",
      "Data from: Web transaction summary, 09/09/20-23/09/20, emailable-emailed\n",
      "Google Analytics form page report 16/09-22/09\n",
      "\n"
     ]
    }
   ],
   "source": [
    "months = 1\n",
    "MDE_total = 8221*4 * months\n",
    "MDE_convs = 1167*2 * months\n",
    "data_from = \"Web transaction summary, 09/09/20-23/09/20, emailable-emailed\\nGoogle Analytics form page report 16/09-22/09\"\n",
    "output_str = \"Volume: {}\\nConversions: {}\\n\".format(MDE_total, MDE_convs)\n",
    "output_str += \"\\nData from: {}\\n\".format(data_from)\n",
    "print(output_str)"
   ]
  },
  {
   "cell_type": "code",
   "execution_count": 49,
   "metadata": {},
   "outputs": [
    {
     "name": "stdout",
     "output_type": "stream",
     "text": [
      "Volume: 32884\n",
      "Conversions: 2334\n",
      "\n",
      "Data from: Web transaction summary, 09/09/20-23/09/20, emailable-emailed\n",
      "Google Analytics form page report 16/09-22/09\n",
      "\n",
      "ctrl%= 7.10%\n",
      "test% = 7.03%\n",
      "Non-inferiority margin = -3%\n",
      "Control weight = 90%\n",
      "MDE = -1%\n",
      "z = -1.882\n",
      "p = 0.030\n"
     ]
    }
   ],
   "source": [
    "MDE_p = 1\n",
    "MDE_znoninf = 0\n",
    "MDE_expecteddrop = 0.99\n",
    "MDE_nim = -0.03\n",
    "ctrl_weight = 0.9\n",
    "\n",
    "while MDE_p > 0.05:\n",
    "    ctrl_cvr = MDE_convs / MDE_total\n",
    "    test_cvr = ctrl_cvr * MDE_expecteddrop\n",
    "    MDE_znoninf, MDE_p = noninferior_zscore(int(MDE_total*ctrl_weight), int(MDE_total*(1-ctrl_weight)),\n",
    "                                            ctrl_cvr, test_cvr, MDE_nim)\n",
    "    if MDE_p < 0.05:\n",
    "        ctrl_cvr_pct = ctrl_cvr * 100\n",
    "        test_cvr_pct = test_cvr * 100\n",
    "        drop_cvr_pct = (MDE_expecteddrop - 1) * 100\n",
    "        nim_pct = MDE_nim * 100\n",
    "        contingency_str = \"ctrl%= {:.2f}%\\ntest% = {:.2f}%\".format(ctrl_cvr_pct,\n",
    "                                                                  test_cvr_pct)\n",
    "        contingency_str += \"\\nNon-inferiority margin = {:.0f}%\".format(nim_pct)\n",
    "        contingency_str += \"\\nControl weight = {:.0f}%\".format(ctrl_weight*100)\n",
    "        contingency_str += \"\\nMDE = -{:.0f}%\".format(MDE_expecteddrop)\n",
    "        test_stat_str = \"z = {:.3f}\\np = {:.3f}\".format(MDE_znoninf, MDE_p)\n",
    "        output_str += '\\n' + contingency_str\n",
    "        output_str += '\\n' + test_stat_str\n",
    "        print(output_str)\n",
    "        break\n",
    "    expected_liftMDE -= 0.01"
   ]
  },
  {
   "cell_type": "code",
   "execution_count": 50,
   "metadata": {},
   "outputs": [],
   "source": [
    "with open(\"non_inf_MDE.txt\", \"w\") as text_file:\n",
    "    text_file.write(output_str)"
   ]
  },
  {
   "cell_type": "markdown",
   "metadata": {},
   "source": [
    "# Superiority test\n",
    "\n",
    "Similar approach to the above. Take the \"Z Test with Continuity Correction (Unpooled)\" approach from [PASS](https://ncss-wpengine.netdna-ssl.com/wp-content/themes/ncss/pdf/Procedures/PASS/Superiority_by_a_Margin_Tests_for_the_Difference_Between_Two_Proportions.pdf).\n",
    "\n",
    "\\begin{equation*}\n",
    "z = \\frac{p_A-p_B-\\delta-\\frac{F}{2}(\\frac{1}{n_A} + \\frac{1}{n_B})}{\\sigma_z}\n",
    "\\end{equation*}\n",
    "\n",
    "and\n",
    "\n",
    "\\begin{equation*}\n",
    "\\sigma_z = \\sqrt{\\frac{p_A(1-p_A)}{n_A}+\\frac{p_B(1-p_B)}{n_B}}\n",
    "\\end{equation*}\n",
    "\n",
    "where F = -1 for lower-tailed hypotheses and 1 for upper-tailed hypotheses."
   ]
  },
  {
   "cell_type": "code",
   "execution_count": 26,
   "metadata": {},
   "outputs": [
    {
     "name": "stdout",
     "output_type": "stream",
     "text": [
      "ctrl rate: 0.00\n",
      "test rate: 0.02\n",
      "margin: 0.0045\n",
      "z: 2.16\n",
      "p: 0.02\n"
     ]
    }
   ],
   "source": [
    "def superior_zscore(n_ctrl, n_test, p_ctrl, p_test, margin, f=1):\n",
    "    \"\"\"Calculate a z-score from a given set of experimental data.\n",
    "    \n",
    "    Parameters\n",
    "    ----------\n",
    "    n_ctrl, n_test : int\n",
    "        The volumes for each cell.\n",
    "    p_ctrl, p_test : int\n",
    "        The conversion rates for each cell.\n",
    "    margin : float, >0 when lower is worse.\n",
    "        The superiority margin: the amount that you want p_test to be larger than p_ctrl\n",
    "        by to decide that the treatment is \"enough\" of an improvement.\n",
    "    f: int, 1 or -1\n",
    "        1 for an upper-tailed test (i.e. reject H0 if the test statistic is larger than the critical value).\n",
    "        -1 for a lower-tailed test (i.e. reject H0 if the test statistic is smaller than the critical value).\n",
    "\n",
    "    Returns\n",
    "    -------\n",
    "    z : float\n",
    "        The z-score for the provided data.\n",
    "    p : float\n",
    "        The p-value for the provided data.\n",
    "    \"\"\"\n",
    "    correction = (f/2) * (1/n_ctrl + 1/n_test)\n",
    "    z_num = p_test - p_ctrl - margin - correction\n",
    "    sigma_z = np.sqrt((p_ctrl*(1-p_ctrl)/n_ctrl + p_test*(1-p_test)/n_test))\n",
    "    z = z_num / sigma_z\n",
    "    p = 1 - norm.cdf(z)\n",
    "    return z, p\n",
    "\n",
    "n_ctrl = 500\n",
    "n_test = 500\n",
    "p_ctrl = 0\n",
    "p_test = 0.02\n",
    "margin = 0.0045\n",
    "print(\"ctrl rate: {:.2f}\\ntest rate: {:.2f}\\nmargin: {}\".format(p_ctrl, p_test, margin))\n",
    "z, p = superior_zscore(n_ctrl, n_test, p_ctrl, p_test, margin)\n",
    "print(\"z: {:.2f}\\np: {:.2f}\".format(z, p))"
   ]
  },
  {
   "cell_type": "markdown",
   "metadata": {},
   "source": [
    "Working! => Set up an MDE."
   ]
  },
  {
   "cell_type": "code",
   "execution_count": 57,
   "metadata": {},
   "outputs": [
    {
     "name": "stdout",
     "output_type": "stream",
     "text": [
      "Volume: 32884\n",
      "Data from: Landing counts: Google Analytics form page report 16/09-22/09\n",
      "Conversions: Google Analytics, May 2019\n",
      "\n"
     ]
    }
   ],
   "source": [
    "months = 1\n",
    "MDE_total = 8221*4 * months\n",
    "apple_pay_rate = 0.0045\n",
    "data_from = \"Landing counts: Google Analytics form page report 16/09-22/09\\nConversions: Google Analytics, May 2019\"\n",
    "output_str = \"Volume: {}\".format(MDE_total)\n",
    "output_str += \"\\nData from: {}\\n\".format(data_from)\n",
    "print(output_str)"
   ]
  },
  {
   "cell_type": "markdown",
   "metadata": {},
   "source": [
    "Aim for 1% point better than Apple Pay, as (based on Beirut Aug 2020 data) that'd be 600 gifts to tune of £35k."
   ]
  },
  {
   "cell_type": "code",
   "execution_count": 58,
   "metadata": {},
   "outputs": [
    {
     "name": "stdout",
     "output_type": "stream",
     "text": [
      "Volume: 32884\n",
      "Data from: Landing counts: Google Analytics form page report 16/09-22/09\n",
      "Conversions: Google Analytics, May 2019\n",
      "\n",
      "ctrl% = 0.45%\n",
      "test% = 1.86%\n",
      "Superiority margin = 1%\n",
      "Control weight = 90%\n",
      "MDE = 313%\n",
      "z = 1.649\n",
      "p = 0.050\n"
     ]
    }
   ],
   "source": [
    "MDE_p = 1\n",
    "MDE_zsup = 0\n",
    "MDE_expectedlift = 1.005\n",
    "margin = 0.01\n",
    "ctrl_weight = 0.9\n",
    "\n",
    "while MDE_p > 0.05:\n",
    "    ctrl_cvr = apple_pay_rate  # aim = have Apple Pay rate as margin to beat\n",
    "    test_cvr = apple_pay_rate * MDE_expectedlift\n",
    "    MDE_zsup, MDE_p = superior_zscore(int(MDE_total*ctrl_weight), int(MDE_total*(1-ctrl_weight)), ctrl_cvr, test_cvr, margin)\n",
    "    if MDE_p < 0.05:\n",
    "        ctrl_cvr_pct = ctrl_cvr * 100\n",
    "        test_cvr_pct = test_cvr * 100\n",
    "        lift_cvr_pct = (MDE_expectedlift - 1) * 100\n",
    "        margin_pct = margin * 100\n",
    "        contingency_str = \"ctrl% = {:.2f}%\\ntest% = {:.2f}%\".format(ctrl_cvr_pct,\n",
    "                                                                  test_cvr_pct)\n",
    "        contingency_str += \"\\nSuperiority margin = {:.0f}%\".format(margin_pct)\n",
    "        contingency_str += \"\\nControl weight = {:.0f}%\".format(ctrl_weight*100)\n",
    "        contingency_str += \"\\nMDE = {:.0f}%\".format(lift_cvr_pct)\n",
    "        test_stat_str = \"z = {:.3f}\\np = {:.3f}\".format(MDE_zsup, MDE_p)\n",
    "        output_str += '\\n' + contingency_str\n",
    "        output_str += '\\n' + test_stat_str\n",
    "        print(output_str)\n",
    "        break\n",
    "    MDE_expectedlift += 0.005"
   ]
  },
  {
   "cell_type": "code",
   "execution_count": 59,
   "metadata": {},
   "outputs": [],
   "source": [
    "with open(\"sup_MDE.txt\", \"w\") as text_file:\n",
    "    text_file.write(output_str)"
   ]
  },
  {
   "cell_type": "markdown",
   "metadata": {},
   "source": [
    "### CRO60 test results\n",
    "\n",
    "Calculate the actual results from the CRO60 superiority test. Can't use the above, as it's only a one-proportion test => use the version from the NCSS guide [Superiority by a Margin Tests for One Proportion](https://ncss-wpengine.netdna-ssl.com/wp-content/themes/ncss/pdf/Procedures/PASS/Superiority_by_a_Margin_Tests_for_One_Proportion.pdf)."
   ]
  },
  {
   "cell_type": "code",
   "execution_count": 44,
   "metadata": {},
   "outputs": [
    {
     "name": "stdout",
     "output_type": "stream",
     "text": [
      "Amazon click %: 1.53%\n",
      "Threshold % to beat: 1.45%\n",
      "The test statistic is z(∆=0.01, N=3,526)=0.33, p=0.37>0.05.\n"
     ]
    }
   ],
   "source": [
    "# supt_z, supt_p = superior_zscore(18293, 4574, 0.0442, 0.0529, 0.01, f=1)  # only useful for two-sample\n",
    "amazon_clicks = 54\n",
    "n = 3526\n",
    "amazon_rate = amazon_clicks / n\n",
    "apple_rate = 0.0045\n",
    "margin = 0.01\n",
    "p0 = apple_rate + margin\n",
    "if abs(amazon_rate - p0) < 1/(2*n):\n",
    "    c = 0\n",
    "elif amazon_rate > p0:\n",
    "    c = -1/(2*n)\n",
    "else:\n",
    "    c = 1/(2*n)\n",
    "supt_z = (amazon_rate-p0+c) / np.sqrt(p0*(1-p0)/n)\n",
    "supt_p = 1 - norm.cdf(supt_z)\n",
    "supt_for_report = \"The test statistic is z(∆={}, N={:,})={:.2f}, p={:.2f}\"\n",
    "if supt_p < 0.05:\n",
    "    supt_for_report += \"<0.05.\"\n",
    "else:\n",
    "    supt_for_report += \">0.05.\"\n",
    "print(\"Amazon click %: {:.2f}%\\nThreshold % to beat: {:.2f}%\".format(amazon_rate * 100, p0 * 100))\n",
    "print(supt_for_report.format(margin, n, supt_z, supt_p))"
   ]
  }
 ],
 "metadata": {
  "kernelspec": {
   "display_name": "Python 3",
   "language": "python",
   "name": "python3"
  },
  "language_info": {
   "codemirror_mode": {
    "name": "ipython",
    "version": 3
   },
   "file_extension": ".py",
   "mimetype": "text/x-python",
   "name": "python",
   "nbconvert_exporter": "python",
   "pygments_lexer": "ipython3",
   "version": "3.7.1"
  }
 },
 "nbformat": 4,
 "nbformat_minor": 2
}
