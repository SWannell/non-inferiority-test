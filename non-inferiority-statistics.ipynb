{
 "cells": [
  {
   "cell_type": "code",
   "execution_count": 1,
   "metadata": {},
   "outputs": [],
   "source": [
    "import pandas as pd\n",
    "import numpy as np\n",
    "from scipy.stats import norm"
   ]
  },
  {
   "cell_type": "markdown",
   "metadata": {},
   "source": [
    "Approach taken from NCSS' guide [Two Proportions – Non-Inferiority, Superiority, Equivalence, and Two-Sided Tests vs. a Margin](https://ncss-wpengine.netdna-ssl.com/wp-content/themes/ncss/pdf/Procedures/NCSS/Two_Proportions-Non-Inferiority,_Superiority,_Equivalence,_and_Two-Sided_Tests_vs_a_Margin.pdf), as with previous statistical approaches (i.e. as their guides include detailed formulae)."
   ]
  },
  {
   "cell_type": "code",
   "execution_count": 45,
   "metadata": {},
   "outputs": [
    {
     "name": "stdout",
     "output_type": "stream",
     "text": [
      "      don  non\n",
      "test   60  940\n",
      "ctrl   70  930\n"
     ]
    }
   ],
   "source": [
    "data = {'test': [60, 1000-60], 'ctrl': [70, 1000-70]}\n",
    "# N.B. convention = test is n1 and p1, ctrl is n2 and p2, hence the order\n",
    "\n",
    "df = pd.DataFrame.from_dict(data, orient='index',\n",
    "                            columns=['don', 'non'])\n",
    "print(df)"
   ]
  },
  {
   "cell_type": "code",
   "execution_count": 46,
   "metadata": {},
   "outputs": [],
   "source": [
    "delta = -0.01  # The non-inferiority margin"
   ]
  },
  {
   "cell_type": "markdown",
   "metadata": {},
   "source": [
    "Take the test statistic from p19-20."
   ]
  },
  {
   "cell_type": "code",
   "execution_count": 47,
   "metadata": {},
   "outputs": [
    {
     "name": "stdout",
     "output_type": "stream",
     "text": [
      "Test: 1000, 0.06\n",
      "Ctrl: 1000, 0.07\n"
     ]
    }
   ],
   "source": [
    "df['total'] = df.sum(axis=1)\n",
    "[n1, n2] = df['total']\n",
    "N = n1 + n2\n",
    "[p1, p2] = df['don'] / df['total']\n",
    "print('Test: {}, {}\\nCtrl: {}, {}'.format(n1, p1, n2, p2))"
   ]
  },
  {
   "cell_type": "code",
   "execution_count": 48,
   "metadata": {},
   "outputs": [
    {
     "name": "stdout",
     "output_type": "stream",
     "text": [
      "-0.7070000000000001\n",
      "151.5\n",
      "-2160.0\n",
      "2000\n"
     ]
    }
   ],
   "source": [
    "l0 = df.loc['ctrl', 'don'] * delta * (1 - delta)\n",
    "l1 = (n2*delta - N - 2*df.loc['ctrl', 'don']) * delta + df['don'].sum()\n",
    "l2 = (N + n2)*delta - N - df['don'].sum()\n",
    "l3 = N\n",
    "for i in [l0, l1, l2, l3]:\n",
    "    print(i)"
   ]
  },
  {
   "cell_type": "code",
   "execution_count": 49,
   "metadata": {},
   "outputs": [
    {
     "name": "stdout",
     "output_type": "stream",
     "text": [
      "-0.033197750000000005 -0.3230325061042619 1.10529455981647\n"
     ]
    }
   ],
   "source": [
    "C = (l2**3 / (27 * (l3**3))) - (l1*l2)/(6 * (l3**2)) + l0/(2*l3)\n",
    "B = np.sign(C) * np.sqrt((l2**2)/(9 * (l3**2)) - l1/(3*l3))\n",
    "A = (1/3) * (np.pi + np.arccos(C/(B**3)))\n",
    "print(C, B, A)"
   ]
  },
  {
   "cell_type": "code",
   "execution_count": 50,
   "metadata": {},
   "outputs": [
    {
     "name": "stdout",
     "output_type": "stream",
     "text": [
      "0.059999999999999505 0.06999999999999951 -0.010000000000000002\n"
     ]
    }
   ],
   "source": [
    "p2_cd = 2*B*np.cos(A) - l2/(3*l3)  # constrained p\n",
    "p1_cd = p2_cd + delta\n",
    "print(p1_cd, p2_cd, p1_cd - p2_cd)"
   ]
  },
  {
   "cell_type": "code",
   "execution_count": 51,
   "metadata": {},
   "outputs": [
    {
     "name": "stdout",
     "output_type": "stream",
     "text": [
      "-7.86689802094413e-16\n"
     ]
    }
   ],
   "source": [
    "z_MND_num = p1 - p2 - delta\n",
    "z_MND_den = (p1_cd*(1-p1_cd)/n1 + p2_cd*(1-p2_cd)/n2) * N / (N-1)\n",
    "z_MND_den = np.sqrt(z_MND_den)\n",
    "z_MND = z_MND_num / z_MND_den\n",
    "print(z_MND)"
   ]
  },
  {
   "cell_type": "markdown",
   "metadata": {},
   "source": [
    "p38 => this is treated as a standard z-score, and therefore is turned into a p-value by:"
   ]
  },
  {
   "cell_type": "code",
   "execution_count": 52,
   "metadata": {},
   "outputs": [
    {
     "data": {
      "text/plain": [
       "0.49999999999999967"
      ]
     },
     "execution_count": 52,
     "metadata": {},
     "output_type": "execute_result"
    }
   ],
   "source": [
    "norm.cdf(z_MND)"
   ]
  },
  {
   "cell_type": "markdown",
   "metadata": {},
   "source": [
    "It being p=0.5 for a situ where the observed difference seen is the actual NIM makes sense! Looks good => to functionify it:"
   ]
  },
  {
   "cell_type": "code",
   "execution_count": 68,
   "metadata": {},
   "outputs": [
    {
     "name": "stdout",
     "output_type": "stream",
     "text": [
      "(-7.86689802094413e-16, 0.8413447460685431)\n"
     ]
    }
   ],
   "source": [
    "def mndifference(datafr, nim):\n",
    "    \"\"\"Perform the Miettinen-Nurminen Large-Sample Score Test of the Difference.\n",
    "    \n",
    "    Parameters\n",
    "    ----------\n",
    "    datafr : pd.DataFrame\n",
    "        The data to run the test on.\n",
    "        Columns: don, non, total\n",
    "        Index: test, ctrl\n",
    "        N.B. the convention here is that the experiment is indexed as 1, and the control as 2, in reverse of normal.\n",
    "    nim : float, <0 when lower is worse.\n",
    "        The Non-Inferiority Margin: the amount that P1 can be less than P2 and you still conclude that\n",
    "        group 1 (treatment) is not inferior to group 2 (control).\n",
    "\n",
    "    Returns\n",
    "    -------\n",
    "    ? : ?\n",
    "        Blah\n",
    "    \"\"\"\n",
    "    [n1, n2] = datafr['total']\n",
    "    N = n1 + n2\n",
    "    [p1, p2] = datafr['don'] / datafr['total']\n",
    "    \n",
    "    l0 = datafr.loc['ctrl', 'don'] * nim * (1 - nim)\n",
    "    l1 = (n2*nim - N - 2*datafr.loc['ctrl', 'don']) * nim + datafr['don'].sum()\n",
    "    l2 = (N + n2)*nim - N - datafr['don'].sum()\n",
    "    l3 = N\n",
    "    \n",
    "    C = (l2**3 / (27 * (l3**3))) - (l1*l2)/(6 * (l3**2)) + l0/(2*l3)\n",
    "    B = np.sign(C) * np.sqrt((l2**2)/(9 * (l3**2)) - l1/(3*l3))\n",
    "    A = (1/3) * (np.pi + np.arccos(C/(B**3)))\n",
    "    \n",
    "    p2_cd = 2*B*np.cos(A) - l2/(3*l3)  # constrained p\n",
    "    p1_cd = p2_cd + nim\n",
    "    \n",
    "    z_MND_num = p1 - p2 - nim\n",
    "    z_MND_den = (p1_cd*(1-p1_cd)/n1 + p2_cd*(1-p2_cd)/n2) * N / (N-1)\n",
    "    z_MND_den = np.sqrt(z_MND_den)\n",
    "    z_MND = z_MND_num / z_MND_den\n",
    "\n",
    "    return z_MND, norm.cdf(1-z_MND)\n",
    "\n",
    "\n",
    "print(mndifference(df, delta))"
   ]
  },
  {
   "cell_type": "code",
   "execution_count": 92,
   "metadata": {},
   "outputs": [
    {
     "name": "stdout",
     "output_type": "stream",
     "text": [
      "       don   non  total\n",
      "test   900  9100  10000\n",
      "ctrl  1200  8800  10000 \n",
      "ctr1 = 0.09\n",
      "ctr2 = 0.12\n",
      "z: 2.303390756582445\n",
      "p: 0.0962206953059152\n",
      "\n",
      "       don   non  total\n",
      "test  1000  9000  10000\n",
      "ctrl  1200  8800  10000 \n",
      "ctr1 = 0.1\n",
      "ctr2 = 0.12\n",
      "z: 4.500807405945609\n",
      "p: 0.00023192546456305246\n",
      "\n",
      "       don   non  total\n",
      "test  1100  8900  10000\n",
      "ctrl  1200  8800  10000 \n",
      "ctr1 = 0.11\n",
      "ctr2 = 0.12\n",
      "z: 6.606882485347294\n",
      "p: 1.0300171368606556e-08\n",
      "\n",
      "       don   non  total\n",
      "test  1200  8800  10000\n",
      "ctrl  1200  8800  10000 \n",
      "ctr1 = 0.12\n",
      "ctr2 = 0.12\n",
      "z: 8.633283165227821\n",
      "p: 1.1442473257896606e-14\n",
      "\n",
      "       don   non  total\n",
      "test  1300  8700  10000\n",
      "ctrl  1200  8800  10000 \n",
      "ctr1 = 0.13\n",
      "ctr2 = 0.12\n",
      "z: 10.589502001723977\n",
      "p: 4.425559304295249e-22\n",
      "\n",
      "       don   non  total\n",
      "test  1400  8600  10000\n",
      "ctrl  1200  8800  10000 \n",
      "ctr1 = 0.14\n",
      "ctr2 = 0.12\n",
      "z: 12.483393493598182\n",
      "p: 7.993987341415403e-31\n",
      "\n",
      "       don   non  total\n",
      "test  1500  8500  10000\n",
      "ctrl  1200  8800  10000 \n",
      "ctr1 = 0.15\n",
      "ctr2 = 0.12\n",
      "z: 14.321550228593223\n",
      "p: 8.673386338678291e-41\n",
      "\n"
     ]
    }
   ],
   "source": [
    "diff_range = 300\n",
    "differences = range(-diff_range, diff_range+1, 100)\n",
    "# step_nim = -0.04\n",
    "\n",
    "for diff in differences:\n",
    "    ctrl_convs = 1200\n",
    "    cell_size = 10000\n",
    "    test_convs = ctrl_convs + diff\n",
    "    step_nim = - (ctrl_convs / cell_size) / 3\n",
    "    step_data = {'test': [test_convs, cell_size-test_convs, cell_size],\n",
    "                 'ctrl': [ctrl_convs, cell_size-ctrl_convs, cell_size]}\n",
    "    step_df = pd.DataFrame.from_dict(step_data, orient='index', columns=['don', 'non', 'total'])\n",
    "    step_z, step_p = mndifference(step_df, step_nim)\n",
    "    step_p1 = step_df.loc['test', 'don'] / step_df.loc['test', 'total']\n",
    "    step_p2 = step_df.loc['ctrl', 'don'] / step_df.loc['ctrl', 'total']\n",
    "    print(step_df, '\\nctr1 = {}\\nctr2 = {}\\nz: {}\\np: {}\\n'.format(step_p1, step_p2, step_z, step_p))"
   ]
  },
  {
   "cell_type": "markdown",
   "metadata": {},
   "source": [
    "p38 => p<0.05 means that the experimental treatment is non-inferior to the standard treatment. So the p-value getting smaller as the test cvr increases is correct, as smaller p => more sure the test is non-inferior\n",
    "\n",
    "But it looks like bigger sample sizes leads to an equivalent difference (e.g. of -0.02) getting a smaller p-value -- shouldn't it be the reverse? We should be more certain that a test is inferior if the sample size increases i.e. a sample size increase should lead "
   ]
  },
  {
   "cell_type": "markdown",
   "metadata": {},
   "source": [
    "# Sample size calculation\n",
    "\n",
    "From [Power calculator for binary outcome non-inferiority trial](https://www.sealedenvelope.com/power/binary-noninferior/) (Sealed Envelope Ltd, 2012, accessed Fri Jul 17 2020):\n",
    "\n",
    "> n = f(α, β) × [πs × (100 − πs) + πe × (100 − πe)] / (πs − πe − d)2\n",
    "where πs and πe are the true percent 'success' in the standard and experimental treatment group respectively, and\n",
    "> \n",
    "> f(α, β) = [Φ-1(α) + Φ-1(β)]2\n",
    "Φ-1 is the cumulative distribution function of a standardised normal deviate.\n",
    "\n",
    "Which you turn into the power by (cf. [Calculate Sample Size Needed to Compare 2 Proportions: 2-Sample Non-Inferiority or Superiority](http://powerandsamplesize.com/Calculators/Compare-2-Proportions/2-Sample-Non-Inferiority-or-Superiority):\n",
    "\n",
    "\\begin{equation*}\n",
    "n_A=\\kappa n_B \\;\\text{ and }\\;\n",
    "\t\tn_B=\\left(\\frac{p_A(1-p_A)}{\\kappa}+p_B(1-p_B)\\right)\n",
    "\t\t\t\\left(\\frac{z_{1-\\alpha}+z_{1-\\beta}}{p_A-p_B-\\delta}\\right)^2\n",
    "\\end{equation*}\n",
    "\\begin{equation*}\n",
    "1-\\beta=\n",
    "\t\t\t\\Phi\\left(z-z_{1-\\alpha/2}\\right)+\\Phi\\left(-z-z_{1-\\alpha/2}\\right)\n",
    "\t\t\t\\quad ,\\quad z=\\frac{p_A-p_B-\\delta}{\\sqrt{\\frac{p_A(1-p_A)}{n_A}+\\frac{p_B(1-p_B)}{n_B}}}\n",
    "\\end{equation*}\n",
    "\n",
    "N.B. http://albertotb.com/Equivalence-between-distribution-functions-in-R-and-Python/ => that pnorm is cdf and qnorm is inverse cdf i.e. ppf."
   ]
  },
  {
   "cell_type": "code",
   "execution_count": 75,
   "metadata": {},
   "outputs": [
    {
     "name": "stdout",
     "output_type": "stream",
     "text": [
      "0.1 0.07 -0.2 19\n",
      "0.1 0.08 -0.2 21\n",
      "0.1 0.09 -0.2 25\n",
      "0.1 0.1 -0.2 28\n",
      "0.1 0.11 -0.2 33\n",
      "0.1 0.12 -0.2 38\n",
      "0.1 0.13 -0.2 44\n"
     ]
    }
   ],
   "source": [
    "p_standard = 0.10\n",
    "p_exp = 0.10\n",
    "d = -0.20\n",
    "alpha = 0.05\n",
    "beta = 0.20\n",
    "\n",
    "def noninferior_sample_size(p_ctrl, p_test, margin, alpha=0.05, beta=0.2):\n",
    "    \"\"\"Perform a sample size calculation for a non-inferiority / superiority test, based around a given margin.\"\"\"\n",
    "    f = (norm.ppf(alpha) + norm.ppf(beta)) ** 2\n",
    "    n = f * (p_ctrl*(1-p_ctrl) + p_test*(1-p_test)) / ((p_ctrl - p_test - margin) ** 2)\n",
    "    # z = (p_standard - p_exp - d) / np.sqrt(p_standard*(1-p_standard)/n + p_exp*(1-p_exp)/n)\n",
    "    # power = norm.cdf(z-norm.ppf(1-alpha)) + norm.cdf(-z-norm.ppf(1-alpha))\n",
    "    # Not necessary - as we're specifying a given power\n",
    "    return int(np.ceil(n))\n",
    "\n",
    "for percent_exp in range(7, 13+1):\n",
    "    p_exp = percent_exp / 100\n",
    "    print(p_standard, p_exp, d, noninferior_sample_size(p_standard, p_exp, d))"
   ]
  },
  {
   "cell_type": "code",
   "execution_count": 76,
   "metadata": {},
   "outputs": [
    {
     "name": "stdout",
     "output_type": "stream",
     "text": [
      "      0.08  0.09  0.10  0.11  0.12\n",
      "0.05   207   296   446   727  1344\n",
      "0.10    71    88   112   144   189\n",
      "0.15    35    42    50    60    72\n",
      "0.20    21    25    28    33    38\n",
      "0.25    14    16    18    21    23\n",
      "0.30    10    12    13    14    16\n",
      "0.35     8     9    10    11    12\n",
      "0.40     6     7     7     8     9\n"
     ]
    }
   ],
   "source": [
    "p_range = [i/100 for i in range(8, 12+1)]\n",
    "margin_range = [i/100 for i in range(5, 40+1, 5)]\n",
    "sample_sizes = pd.DataFrame(index=margin_range, columns=p_range)\n",
    "for expected_p in p_range:\n",
    "    for expected_margin in margin_range:\n",
    "        sample_sizes.loc[expected_margin, expected_p] = noninferior_sample_size(p_standard, expected_p, -expected_margin)\n",
    "print(sample_sizes)"
   ]
  },
  {
   "cell_type": "markdown",
   "metadata": {},
   "source": [
    "This is implying that the better a test is, the more data you'd need?? No!"
   ]
  },
  {
   "cell_type": "code",
   "execution_count": null,
   "metadata": {},
   "outputs": [],
   "source": []
  }
 ],
 "metadata": {
  "kernelspec": {
   "display_name": "Python 3",
   "language": "python",
   "name": "python3"
  },
  "language_info": {
   "codemirror_mode": {
    "name": "ipython",
    "version": 3
   },
   "file_extension": ".py",
   "mimetype": "text/x-python",
   "name": "python",
   "nbconvert_exporter": "python",
   "pygments_lexer": "ipython3",
   "version": "3.7.1"
  }
 },
 "nbformat": 4,
 "nbformat_minor": 2
}
