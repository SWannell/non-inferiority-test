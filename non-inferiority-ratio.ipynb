{
 "cells": [
  {
   "cell_type": "markdown",
   "id": "dcb94eaa",
   "metadata": {},
   "source": [
    "Makes sense to do a ratio test, as we're more invested in \"test is no worse than 5% lower than control\", rather than a fixed \"test is no more than 2% points lower than control\" (as some CVRs can be higher or lower).\n",
    "\n",
    "Approach taken from NCSS' guide [Two Proportions – Non-Inferiority, Superiority, Equivalence, and Two-Sided Tests vs. a Margin](https://www.ncss.com/wp-content/themes/ncss/pdf/Procedures/NCSS/Two_Proportions-Non-Inferiority,_Superiority,_Equivalence,_and_Two-Sided_Tests_vs_a_Margin.pdf), as with previous statistical approaches (i.e. as their guides include detailed formulae)."
   ]
  },
  {
   "cell_type": "code",
   "execution_count": 2,
   "id": "c74c72c7",
   "metadata": {},
   "outputs": [],
   "source": [
    "import pandas as pd\n",
    "import numpy as np\n",
    "from scipy.stats import norm\n",
    "import seaborn as sns\n",
    "import matplotlib.pyplot as plt\n",
    "%matplotlib inline"
   ]
  },
  {
   "cell_type": "code",
   "execution_count": 3,
   "id": "6f434d1c",
   "metadata": {},
   "outputs": [
    {
     "data": {
      "text/html": [
       "<div>\n",
       "<style scoped>\n",
       "    .dataframe tbody tr th:only-of-type {\n",
       "        vertical-align: middle;\n",
       "    }\n",
       "\n",
       "    .dataframe tbody tr th {\n",
       "        vertical-align: top;\n",
       "    }\n",
       "\n",
       "    .dataframe thead th {\n",
       "        text-align: right;\n",
       "    }\n",
       "</style>\n",
       "<table border=\"1\" class=\"dataframe\">\n",
       "  <thead>\n",
       "    <tr style=\"text-align: right;\">\n",
       "      <th></th>\n",
       "      <th>don</th>\n",
       "      <th>total</th>\n",
       "      <th>non</th>\n",
       "    </tr>\n",
       "  </thead>\n",
       "  <tbody>\n",
       "    <tr>\n",
       "      <th>test</th>\n",
       "      <td>60</td>\n",
       "      <td>1000</td>\n",
       "      <td>940</td>\n",
       "    </tr>\n",
       "    <tr>\n",
       "      <th>ctrl</th>\n",
       "      <td>60</td>\n",
       "      <td>1000</td>\n",
       "      <td>940</td>\n",
       "    </tr>\n",
       "  </tbody>\n",
       "</table>\n",
       "</div>"
      ],
      "text/plain": [
       "      don  total  non\n",
       "test   60   1000  940\n",
       "ctrl   60   1000  940"
      ]
     },
     "execution_count": 3,
     "metadata": {},
     "output_type": "execute_result"
    }
   ],
   "source": [
    "df = pd.DataFrame.from_dict({'test': [60], 'ctrl': [60]},\n",
    "                            orient='index',\n",
    "                            columns=['don'])\n",
    "df['total'] = 1000\n",
    "df['non'] = df['total'] - df['don']\n",
    "df"
   ]
  },
  {
   "cell_type": "code",
   "execution_count": 57,
   "id": "52284d7e",
   "metadata": {},
   "outputs": [],
   "source": [
    "def mnratio(datafr, nim):\n",
    "    \"\"\"Miettinen-Nurminen Large-Sample Score Test of the Ratio\n",
    "    \n",
    "    Parameters\n",
    "    ----------\n",
    "    datafr : pd.DataFrame\n",
    "        The data to run the test on.\n",
    "        Columns: don, total\n",
    "        Index: test, ctrl\n",
    "        N.B. the convention here is that the experiment is indexed as 1, and the control as 2, in reverse of normal.\n",
    "    nim : float, <1 when lower is worse.\n",
    "        The Non-Inferiority Margin: the relative amount that P1 can be less than P2 and you still conclude that\n",
    "        group 1 (treatment) is not inferior to group 2 (control). i.e. nim=0.95 => you'd accept a test that's 5%\n",
    "        less than control but no lower.\n",
    "\n",
    "    Returns\n",
    "    -------\n",
    "    z_MNR : float\n",
    "        The z-score for the test.\n",
    "    p_test : float\n",
    "        The p-score for the test.\n",
    "    \"\"\"\n",
    "    # From the dataframe\n",
    "    N = datafr['total'].sum()\n",
    "    M1 = datafr['don'].sum()\n",
    "    n1 = datafr.loc['test', 'total']\n",
    "    n2 = datafr.loc['ctrl', 'total']\n",
    "    p1 = datafr.loc['test', 'don'] / n1\n",
    "    p2 = datafr.loc['ctrl', 'don'] / n2\n",
    "    # Interstitial values\n",
    "    A = N * nim\n",
    "    B = -(n1*nim + datafr.loc['test', 'don'] + n2 + datafr.loc['ctrl', 'don']*nim)\n",
    "    C = M1\n",
    "    # Constrain the p-values, to force p1t/p2t=nim\n",
    "    p2t = (-B - np.sqrt(B**2 - 4*A*C)) / (2*A)\n",
    "    p1t = p2t * nim\n",
    "    # z-score\n",
    "    z_MNR_num = (p1/p2 - nim)  # use regular p\n",
    "    z_MNR_den = np.sqrt(((p1t*(1-p1t)/n1)+(nim**2)*(p2t*(1-p2t)/n2))*(N/(N-1)))  # use constrained p\n",
    "    z_MNR = z_MNR_num / z_MNR_den\n",
    "    # p-value\n",
    "    p_test = norm.sf(z_MNR)\n",
    "\n",
    "    return z_MNR, p_test"
   ]
  },
  {
   "cell_type": "code",
   "execution_count": 62,
   "id": "0022ff3c",
   "metadata": {},
   "outputs": [
    {
     "data": {
      "text/plain": [
       "[<matplotlib.lines.Line2D at 0x21f00e81c50>]"
      ]
     },
     "execution_count": 62,
     "metadata": {},
     "output_type": "execute_result"
    },
    {
     "data": {
      "image/png": "[encoded data removed]",
      "text/plain": [
       "<Figure size 640x480 with 1 Axes>"
      ]
     },
     "metadata": {},
     "output_type": "display_data"
    }
   ],
   "source": [
    "nim = 0.95\n",
    "rates = []\n",
    "p_scores = []\n",
    "for t in np.arange(85, 105):\n",
    "    df = pd.DataFrame.from_dict({'test': [t], 'ctrl': [100]},\n",
    "                                orient='index',\n",
    "                                columns=['don'])\n",
    "    df['total'] = 1000\n",
    "    df['non'] = df['total'] - df['don']\n",
    "    df['rate'] = df['don'] / df['total']\n",
    "    rates.append(df.loc['test', 'rate'] / df.loc['ctrl', 'rate'])\n",
    "    p_scores.append(mnratio(df, nim)[1])    \n",
    "\n",
    "plt.plot(rates, p_scores)"
   ]
  },
  {
   "cell_type": "markdown",
   "id": "bca8b4b2",
   "metadata": {},
   "source": [
    "Works exactly as you'd expect: a full non-rejection for values substantially below the 95% threshold, still not happy about values at the threshold, and an easy reject at test values equal or greater than control."
   ]
  },
  {
   "cell_type": "code",
   "execution_count": 63,
   "id": "7c5cad32",
   "metadata": {},
   "outputs": [
    {
     "name": "stdout",
     "output_type": "stream",
     "text": [
      "The test statistic is z(∆=0.95, N=10,312)=14.76, p=0.00<0.05.\n"
     ]
    }
   ],
   "source": [
    "nim = 0.95\n",
    "cro84 = pd.DataFrame.from_dict({'test': [391, 2058], 'ctrl': [1444, 8254]},\n",
    "                               orient='index',\n",
    "                               columns=['don', 'total'])\n",
    "noninf_z, noninf_p = mnratio(cro84, nim)\n",
    "\n",
    "for_report = f\"The test statistic is z(∆={nim}, N={cro84['total'].sum():,})={noninf_z:.2f}, p={noninf_p:.2f}\"\n",
    "if noninf_p < 0.05:\n",
    "    for_report += \"<0.05.\"\n",
    "else:\n",
    "    for_report += \">0.05.\"\n",
    "\n",
    "print(for_report)"
   ]
  },
  {
   "cell_type": "code",
   "execution_count": null,
   "id": "8a303f86",
   "metadata": {},
   "outputs": [],
   "source": []
  }
 ],
 "metadata": {
  "kernelspec": {
   "display_name": "Python 3 (ipykernel)",
   "language": "python",
   "name": "python3"
  },
  "language_info": {
   "codemirror_mode": {
    "name": "ipython",
    "version": 3
   },
   "file_extension": ".py",
   "mimetype": "text/x-python",
   "name": "python",
   "nbconvert_exporter": "python",
   "pygments_lexer": "ipython3",
   "version": "3.7.1"
  }
 },
 "nbformat": 4,
 "nbformat_minor": 5
}
